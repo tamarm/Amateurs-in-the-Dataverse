{
 "cells": [
  {
   "cell_type": "code",
   "execution_count": 1,
   "id": "a4a2dbb4",
   "metadata": {},
   "outputs": [],
   "source": [
    "import numpy as np\n",
    "import pandas as pd\n",
    "import geopandas as gpd\n",
    "import re"
   ]
  },
  {
   "cell_type": "code",
   "execution_count": 2,
   "id": "171c6471",
   "metadata": {},
   "outputs": [],
   "source": [
    "#Loading raw data\n",
    "N = pd.read_excel('neighbourhood-profiles-2021-158-model.xlsx').T"
   ]
  },
  {
   "cell_type": "code",
   "execution_count": 3,
   "id": "a0a2ef77",
   "metadata": {},
   "outputs": [],
   "source": [
    "#Rearranging\n",
    "N.columns = N.iloc[0]\n",
    "N = N.drop('Neighbourhood Name')\n",
    "N.columns = N.columns.str.strip()"
   ]
  },
  {
   "cell_type": "code",
   "execution_count": 4,
   "id": "f5e030c5",
   "metadata": {},
   "outputs": [],
   "source": [
    "#Creating a new dataframe\n",
    "Neighbourhoods = pd.DataFrame()"
   ]
  },
  {
   "cell_type": "code",
   "execution_count": 5,
   "id": "0455fbcd",
   "metadata": {},
   "outputs": [],
   "source": [
    "#Neighbourhood number column\n",
    "Neighbourhoods['Neighbourhood Number'] = N['Neighbourhood Number']\n",
    "#Neighbourhood Name\n",
    "Neighbourhoods['Neighbourhood Name'] = N.index"
   ]
  },
  {
   "cell_type": "code",
   "execution_count": 6,
   "id": "e720a255",
   "metadata": {},
   "outputs": [],
   "source": [
    "#Calculating total population based on age groups\n",
    "Aged_0_to_14 = N.loc[:, '0 to 14 years'].iloc[:, 0]\n",
    "Aged_15_to_64 = N.loc[:, '15 to 64 years'].iloc[:, 0]\n",
    "Aged_65_and_over = N.loc[:, '65 years and over'].iloc[:, 0]\n",
    "Neighbourhoods['Population'] = Aged_0_to_14 + Aged_15_to_64 + Aged_65_and_over"
   ]
  },
  {
   "cell_type": "code",
   "execution_count": 7,
   "id": "b003ae83",
   "metadata": {},
   "outputs": [],
   "source": [
    "#Other features\n",
    "#Age\n",
    "Neighbourhoods['Average Age'] = N['Average age of the population']\n",
    "Neighbourhoods['Median Age'] = N['Median age of the population']\n",
    "#Income\n",
    "Neighbourhoods['Average Total Income in 2020'] = N['Average total income in 2020 among recipients ($)']\n",
    "#Immigrants/Non-immigrants\n",
    "Neighbourhoods['Immigrants'] = N['Immigrants']\n",
    "Neighbourhoods['Immigrants_Percentage'] = Neighbourhoods['Immigrants'] / Neighbourhoods['Population']\n",
    "Neighbourhoods['Non-Immigrants'] = N['Non-immigrants']\n",
    "Neighbourhoods['Non-Immigrants_Percentage'] = Neighbourhoods['Non-Immigrants'] / Neighbourhoods['Population']\n",
    "#Employment\n",
    "Neighbourhoods['Employed'] = N['Employed']\n",
    "Neighbourhoods['Employed_Percentage'] = Neighbourhoods['Employed'] / Neighbourhoods['Population']\n",
    "Neighbourhoods['Unemployed'] = N['Unemployed']\n",
    "Neighbourhoods['Unemployed_Percentage'] = Neighbourhoods['Unemployed'] / Neighbourhoods['Population']\n",
    "#Education level\n",
    "Neighbourhoods['No Degree'] = N['No certificate, diploma or degree'].iloc[:,0]\n",
    "Neighbourhoods['No Degree_Percentage'] = Neighbourhoods['No Degree'] / Neighbourhoods['Population']\n",
    "Neighbourhoods['High School Diploma'] = N['High (secondary) school diploma or equivalency certificate'].iloc[:,0]\n",
    "Neighbourhoods['High School Diploma_Percentage'] = Neighbourhoods['High School Diploma'] / Neighbourhoods['Population']\n",
    "Neighbourhoods['Postsecondary Certificate'] = N['Postsecondary certificate, diploma or degree'].iloc[:,0]\n",
    "Neighbourhoods['Postsecondary Certificate_Percentage'] = Neighbourhoods['Postsecondary Certificate'] / Neighbourhoods['Population']\n",
    "Neighbourhoods['Bachelor\\'s'] = N['Bachelor\\'s degree'].iloc[:,0]\n",
    "Neighbourhoods['Bachelor\\'s_Percentage'] = Neighbourhoods['Bachelor\\'s'] / Neighbourhoods['Population']\n",
    "Neighbourhoods['Master\\'s'] = N['Master\\'s degree'].iloc[:,0]\n",
    "Neighbourhoods['Master\\'s_Percentage'] = Neighbourhoods['Master\\'s'] / Neighbourhoods['Population']\n",
    "Neighbourhoods['Doctorate'] = N['Earned doctorate'].iloc[:,0]\n",
    "Neighbourhoods['Doctorate_Percentage'] = Neighbourhoods['Doctorate'] / Neighbourhoods['Population']"
   ]
  },
  {
   "cell_type": "code",
   "execution_count": 8,
   "id": "fdf81dea",
   "metadata": {},
   "outputs": [],
   "source": [
    "#Loading theft and geomertry data for merging"
   ]
  },
  {
   "cell_type": "code",
   "execution_count": 9,
   "id": "7ef46a2f",
   "metadata": {},
   "outputs": [],
   "source": [
    "Neighbourhood_geometry = gpd.read_file('Neighbourhoods.geojson')\n",
    "geoBikeAndNeighbourhood = gpd.read_file('bike_with_n_and_p.json')\n",
    "geoCarAndNeighbourhood = gpd.read_file('car_with_n_and_p.json')"
   ]
  },
  {
   "cell_type": "code",
   "execution_count": 10,
   "id": "1483cbec",
   "metadata": {},
   "outputs": [],
   "source": [
    "geoBikeAndNeighbourhood = geoBikeAndNeighbourhood.rename(columns={'neighborhood_name': 'neighbourhood_name'})\n",
    "geoCarAndNeighbourhood = geoCarAndNeighbourhood.rename(columns={'neighborhood_name': 'neighbourhood_name'})\n",
    "Neighbourhood_geometry = Neighbourhood_geometry.rename(columns={'AREA_NAME': 'neighbourhood_name'})"
   ]
  },
  {
   "cell_type": "code",
   "execution_count": 11,
   "id": "bb9f38ac",
   "metadata": {},
   "outputs": [],
   "source": [
    "# Function to clean the neighborhood name: lowercased and only letters\n",
    "def clean_neighborhood_name(name):\n",
    "    # Convert to lowercase and remove non-alphabetic characters\n",
    "    return re.sub(r'[^a-zA-Z]', '', name.lower())\n",
    "\n",
    "bike_thefts_agg = geoBikeAndNeighbourhood.groupby('neighbourhood_name').agg(\n",
    "    bike_thefts = ('neighbourhood_name', 'size'),\n",
    "    neighbourhood_area = ('neighborhood_area', 'first'),\n",
    "    park_area = ('park_area', 'first'),\n",
    "    park_density = ('park_density', 'first'),\n",
    "    park_count = ('park_count', 'first'),# Assuming 'neighbourhood_area' is the same for all crimes in the same neighborhood\n",
    ").reset_index()\n",
    "car_thefts_agg = geoCarAndNeighbourhood.groupby('neighbourhood_name').size().reset_index(name='car_thefts')"
   ]
  },
  {
   "cell_type": "code",
   "execution_count": 12,
   "id": "8287162f",
   "metadata": {},
   "outputs": [],
   "source": [
    "# Merging neighbourhood and crime data (eliminating name misspelling)\n",
    "Neighbourhoods['clean_name'] = Neighbourhoods['Neighbourhood Name'].apply(clean_neighborhood_name)\n",
    "bike_thefts_agg['clean_name'] = bike_thefts_agg['neighbourhood_name'].apply(clean_neighborhood_name)\n",
    "car_thefts_agg['clean_name'] = car_thefts_agg['neighbourhood_name'].apply(clean_neighborhood_name)\n",
    "Neighbourhood_geometry['clean_name'] = Neighbourhood_geometry['neighbourhood_name'].apply(clean_neighborhood_name)\n",
    "Neighbourhood_geometry = Neighbourhood_geometry[['clean_name', 'geometry']]\n",
    "\n",
    "#Merge datasets using the cleaned names\n",
    "NeighbourhoodsWithCrime = pd.merge(Neighbourhoods, bike_thefts_agg, \n",
    "                                   on='clean_name', how='left')\n",
    "\n",
    "NeighbourhoodsWithCrime = pd.merge(NeighbourhoodsWithCrime, car_thefts_agg, \n",
    "                                   on='clean_name', how='left')\n",
    "\n",
    "NeighbourhoodsWithCrime = pd.merge(NeighbourhoodsWithCrime, Neighbourhood_geometry, \n",
    "                                   on='clean_name', how='left')\n",
    "\n",
    "#Drop the 'clean_name' column and keep the original 'Neighbourhood Name'\n",
    "NeighbourhoodsWithCrime.drop('clean_name', axis=1, inplace=True)\n",
    "NeighbourhoodsWithCrime.drop('neighbourhood_name_x', axis=1, inplace=True)\n",
    "NeighbourhoodsWithCrime.drop('neighbourhood_name_y', axis=1, inplace=True)"
   ]
  },
  {
   "cell_type": "code",
   "execution_count": 13,
   "id": "d0c247af",
   "metadata": {},
   "outputs": [],
   "source": [
    "NeighbourhoodsWithCrime = NeighbourhoodsWithCrime.rename(columns={'bike_thefts': 'Bike Thefts'})\n",
    "NeighbourhoodsWithCrime = NeighbourhoodsWithCrime.rename(columns={'car_thefts': 'Car Thefts'})\n",
    "NeighbourhoodsWithCrime = NeighbourhoodsWithCrime.rename(columns={'park_density': 'Park Density'})\n",
    "NeighbourhoodsWithCrime = NeighbourhoodsWithCrime.rename(columns={'park_count': 'Park Count'})\n",
    "NeighbourhoodsWithCrime = NeighbourhoodsWithCrime.rename(columns={'park_area': 'Park Area'})"
   ]
  },
  {
   "cell_type": "code",
   "execution_count": 14,
   "id": "6341a717",
   "metadata": {},
   "outputs": [
    {
     "data": {
      "text/html": [
       "<div>\n",
       "<style scoped>\n",
       "    .dataframe tbody tr th:only-of-type {\n",
       "        vertical-align: middle;\n",
       "    }\n",
       "\n",
       "    .dataframe tbody tr th {\n",
       "        vertical-align: top;\n",
       "    }\n",
       "\n",
       "    .dataframe thead th {\n",
       "        text-align: right;\n",
       "    }\n",
       "</style>\n",
       "<table border=\"1\" class=\"dataframe\">\n",
       "  <thead>\n",
       "    <tr style=\"text-align: right;\">\n",
       "      <th></th>\n",
       "      <th>Neighbourhood Number</th>\n",
       "      <th>Neighbourhood Name</th>\n",
       "      <th>Population</th>\n",
       "      <th>Average Age</th>\n",
       "      <th>Median Age</th>\n",
       "      <th>Average Total Income in 2020</th>\n",
       "      <th>Immigrants</th>\n",
       "      <th>Immigrants_Percentage</th>\n",
       "      <th>Non-Immigrants</th>\n",
       "      <th>Non-Immigrants_Percentage</th>\n",
       "      <th>...</th>\n",
       "      <th>Master's_Percentage</th>\n",
       "      <th>Doctorate</th>\n",
       "      <th>Doctorate_Percentage</th>\n",
       "      <th>Bike Thefts</th>\n",
       "      <th>neighbourhood_area</th>\n",
       "      <th>Park Area</th>\n",
       "      <th>Park Density</th>\n",
       "      <th>Park Count</th>\n",
       "      <th>Car Thefts</th>\n",
       "      <th>geometry</th>\n",
       "    </tr>\n",
       "  </thead>\n",
       "  <tbody>\n",
       "    <tr>\n",
       "      <th>0</th>\n",
       "      <td>1</td>\n",
       "      <td>West Humber-Clairville</td>\n",
       "      <td>33295</td>\n",
       "      <td>40.5</td>\n",
       "      <td>38</td>\n",
       "      <td>40560</td>\n",
       "      <td>18805</td>\n",
       "      <td>0.5648</td>\n",
       "      <td>11805</td>\n",
       "      <td>0.354558</td>\n",
       "      <td>...</td>\n",
       "      <td>0.04385</td>\n",
       "      <td>130</td>\n",
       "      <td>0.003904</td>\n",
       "      <td>55</td>\n",
       "      <td>3.161667e+07</td>\n",
       "      <td>2.328015e+06</td>\n",
       "      <td>7.363251</td>\n",
       "      <td>37.0</td>\n",
       "      <td>2696</td>\n",
       "      <td>MULTIPOLYGON (((-79.59037 43.73401, -79.58942 ...</td>\n",
       "    </tr>\n",
       "    <tr>\n",
       "      <th>1</th>\n",
       "      <td>2</td>\n",
       "      <td>Mount Olive-Silverstone-Jamestown</td>\n",
       "      <td>31350</td>\n",
       "      <td>37.8</td>\n",
       "      <td>36</td>\n",
       "      <td>35000</td>\n",
       "      <td>19810</td>\n",
       "      <td>0.631898</td>\n",
       "      <td>9620</td>\n",
       "      <td>0.306858</td>\n",
       "      <td>...</td>\n",
       "      <td>0.040351</td>\n",
       "      <td>90</td>\n",
       "      <td>0.002871</td>\n",
       "      <td>30</td>\n",
       "      <td>4.862431e+06</td>\n",
       "      <td>1.051879e+06</td>\n",
       "      <td>21.632779</td>\n",
       "      <td>22.0</td>\n",
       "      <td>581</td>\n",
       "      <td>MULTIPOLYGON (((-79.57938 43.76222, -79.57925 ...</td>\n",
       "    </tr>\n",
       "    <tr>\n",
       "      <th>2</th>\n",
       "      <td>3</td>\n",
       "      <td>Thistletown-Beaumond Heights</td>\n",
       "      <td>9850</td>\n",
       "      <td>41</td>\n",
       "      <td>39.2</td>\n",
       "      <td>41520</td>\n",
       "      <td>5210</td>\n",
       "      <td>0.528934</td>\n",
       "      <td>4055</td>\n",
       "      <td>0.411675</td>\n",
       "      <td>...</td>\n",
       "      <td>0.04467</td>\n",
       "      <td>15</td>\n",
       "      <td>0.001523</td>\n",
       "      <td>20</td>\n",
       "      <td>3.501726e+06</td>\n",
       "      <td>1.004922e+06</td>\n",
       "      <td>28.697908</td>\n",
       "      <td>10.0</td>\n",
       "      <td>237</td>\n",
       "      <td>MULTIPOLYGON (((-79.56226 43.74373, -79.56234 ...</td>\n",
       "    </tr>\n",
       "    <tr>\n",
       "      <th>3</th>\n",
       "      <td>4</td>\n",
       "      <td>Rexdale-Kipling</td>\n",
       "      <td>10375</td>\n",
       "      <td>41.9</td>\n",
       "      <td>42</td>\n",
       "      <td>42040</td>\n",
       "      <td>4820</td>\n",
       "      <td>0.464578</td>\n",
       "      <td>5080</td>\n",
       "      <td>0.489639</td>\n",
       "      <td>...</td>\n",
       "      <td>0.02747</td>\n",
       "      <td>30</td>\n",
       "      <td>0.002892</td>\n",
       "      <td>14</td>\n",
       "      <td>2.627713e+06</td>\n",
       "      <td>2.561669e+05</td>\n",
       "      <td>9.748665</td>\n",
       "      <td>6.0</td>\n",
       "      <td>187</td>\n",
       "      <td>MULTIPOLYGON (((-79.56419 43.71229, -79.5667 4...</td>\n",
       "    </tr>\n",
       "    <tr>\n",
       "      <th>4</th>\n",
       "      <td>5</td>\n",
       "      <td>Elms-Old Rexdale</td>\n",
       "      <td>9355</td>\n",
       "      <td>39.6</td>\n",
       "      <td>38.4</td>\n",
       "      <td>41240</td>\n",
       "      <td>4600</td>\n",
       "      <td>0.491716</td>\n",
       "      <td>4515</td>\n",
       "      <td>0.48263</td>\n",
       "      <td>...</td>\n",
       "      <td>0.031534</td>\n",
       "      <td>25</td>\n",
       "      <td>0.002672</td>\n",
       "      <td>16</td>\n",
       "      <td>3.073903e+06</td>\n",
       "      <td>7.735079e+05</td>\n",
       "      <td>25.163700</td>\n",
       "      <td>6.0</td>\n",
       "      <td>165</td>\n",
       "      <td>MULTIPOLYGON (((-79.54677 43.73156, -79.54632 ...</td>\n",
       "    </tr>\n",
       "  </tbody>\n",
       "</table>\n",
       "<p>5 rows × 33 columns</p>\n",
       "</div>"
      ],
      "text/plain": [
       "  Neighbourhood Number                 Neighbourhood Name Population  \\\n",
       "0                    1             West Humber-Clairville      33295   \n",
       "1                    2  Mount Olive-Silverstone-Jamestown      31350   \n",
       "2                    3       Thistletown-Beaumond Heights       9850   \n",
       "3                    4                    Rexdale-Kipling      10375   \n",
       "4                    5                   Elms-Old Rexdale       9355   \n",
       "\n",
       "  Average Age Median Age Average Total Income in 2020 Immigrants  \\\n",
       "0        40.5         38                        40560      18805   \n",
       "1        37.8         36                        35000      19810   \n",
       "2          41       39.2                        41520       5210   \n",
       "3        41.9         42                        42040       4820   \n",
       "4        39.6       38.4                        41240       4600   \n",
       "\n",
       "  Immigrants_Percentage Non-Immigrants Non-Immigrants_Percentage  ...  \\\n",
       "0                0.5648          11805                  0.354558  ...   \n",
       "1              0.631898           9620                  0.306858  ...   \n",
       "2              0.528934           4055                  0.411675  ...   \n",
       "3              0.464578           5080                  0.489639  ...   \n",
       "4              0.491716           4515                   0.48263  ...   \n",
       "\n",
       "  Master's_Percentage Doctorate Doctorate_Percentage Bike Thefts  \\\n",
       "0             0.04385       130             0.003904          55   \n",
       "1            0.040351        90             0.002871          30   \n",
       "2             0.04467        15             0.001523          20   \n",
       "3             0.02747        30             0.002892          14   \n",
       "4            0.031534        25             0.002672          16   \n",
       "\n",
       "  neighbourhood_area     Park Area Park Density Park Count Car Thefts  \\\n",
       "0       3.161667e+07  2.328015e+06     7.363251       37.0       2696   \n",
       "1       4.862431e+06  1.051879e+06    21.632779       22.0        581   \n",
       "2       3.501726e+06  1.004922e+06    28.697908       10.0        237   \n",
       "3       2.627713e+06  2.561669e+05     9.748665        6.0        187   \n",
       "4       3.073903e+06  7.735079e+05    25.163700        6.0        165   \n",
       "\n",
       "                                            geometry  \n",
       "0  MULTIPOLYGON (((-79.59037 43.73401, -79.58942 ...  \n",
       "1  MULTIPOLYGON (((-79.57938 43.76222, -79.57925 ...  \n",
       "2  MULTIPOLYGON (((-79.56226 43.74373, -79.56234 ...  \n",
       "3  MULTIPOLYGON (((-79.56419 43.71229, -79.5667 4...  \n",
       "4  MULTIPOLYGON (((-79.54677 43.73156, -79.54632 ...  \n",
       "\n",
       "[5 rows x 33 columns]"
      ]
     },
     "execution_count": 14,
     "metadata": {},
     "output_type": "execute_result"
    }
   ],
   "source": [
    "NeighbourhoodsWithCrime.head()"
   ]
  },
  {
   "cell_type": "code",
   "execution_count": 15,
   "id": "dfbff5f2",
   "metadata": {},
   "outputs": [
    {
     "name": "stdout",
     "output_type": "stream",
     "text": [
      "<class 'pandas.core.frame.DataFrame'>\n",
      "Int64Index: 158 entries, 0 to 157\n",
      "Data columns (total 33 columns):\n",
      " #   Column                                Non-Null Count  Dtype   \n",
      "---  ------                                --------------  -----   \n",
      " 0   Neighbourhood Number                  158 non-null    object  \n",
      " 1   Neighbourhood Name                    158 non-null    object  \n",
      " 2   Population                            158 non-null    object  \n",
      " 3   Average Age                           158 non-null    object  \n",
      " 4   Median Age                            158 non-null    object  \n",
      " 5   Average Total Income in 2020          158 non-null    object  \n",
      " 6   Immigrants                            158 non-null    object  \n",
      " 7   Immigrants_Percentage                 158 non-null    object  \n",
      " 8   Non-Immigrants                        158 non-null    object  \n",
      " 9   Non-Immigrants_Percentage             158 non-null    object  \n",
      " 10  Employed                              158 non-null    object  \n",
      " 11  Employed_Percentage                   158 non-null    object  \n",
      " 12  Unemployed                            158 non-null    object  \n",
      " 13  Unemployed_Percentage                 158 non-null    object  \n",
      " 14  No Degree                             158 non-null    object  \n",
      " 15  No Degree_Percentage                  158 non-null    object  \n",
      " 16  High School Diploma                   158 non-null    object  \n",
      " 17  High School Diploma_Percentage        158 non-null    object  \n",
      " 18  Postsecondary Certificate             158 non-null    object  \n",
      " 19  Postsecondary Certificate_Percentage  158 non-null    object  \n",
      " 20  Bachelor's                            158 non-null    object  \n",
      " 21  Bachelor's_Percentage                 158 non-null    object  \n",
      " 22  Master's                              158 non-null    object  \n",
      " 23  Master's_Percentage                   158 non-null    object  \n",
      " 24  Doctorate                             158 non-null    object  \n",
      " 25  Doctorate_Percentage                  158 non-null    object  \n",
      " 26  Bike Thefts                           158 non-null    int64   \n",
      " 27  neighbourhood_area                    158 non-null    float64 \n",
      " 28  Park Area                             158 non-null    float64 \n",
      " 29  Park Density                          158 non-null    float64 \n",
      " 30  Park Count                            158 non-null    float64 \n",
      " 31  Car Thefts                            158 non-null    int64   \n",
      " 32  geometry                              158 non-null    geometry\n",
      "dtypes: float64(4), geometry(1), int64(2), object(26)\n",
      "memory usage: 42.0+ KB\n"
     ]
    }
   ],
   "source": [
    "NeighbourhoodsWithCrime.info()"
   ]
  },
  {
   "cell_type": "code",
   "execution_count": 18,
   "id": "0f9e83ca",
   "metadata": {},
   "outputs": [],
   "source": [
    "NeighbourhoodsWithCrime = gpd.GeoDataFrame(NeighbourhoodsWithCrime, geometry='geometry')\n",
    "NeighbourhoodsWithCrime.to_file('NeighbourhoodsWithCrime.json', driver=\"GeoJSON\")"
   ]
  },
  {
   "cell_type": "code",
   "execution_count": 33,
   "id": "eef49595",
   "metadata": {},
   "outputs": [
    {
     "name": "stdout",
     "output_type": "stream",
     "text": [
      "Reinitialized existing Git repository in C:/Users/tomer/Amateurs-in-the-Dataverse/.git/\n"
     ]
    },
    {
     "name": "stderr",
     "output_type": "stream",
     "text": [
      "The syntax of the command is incorrect.\n"
     ]
    }
   ],
   "source": [
    "!git init\n",
    "!git remote add origin <https://github.com/tamarm/Amateurs-in-the-Dataverse.git>"
   ]
  },
  {
   "cell_type": "code",
   "execution_count": 34,
   "id": "099a09bc",
   "metadata": {},
   "outputs": [
    {
     "name": "stderr",
     "output_type": "stream",
     "text": [
      "fatal: pathspec '$(Neighbourhood_data_cleaning_and_merging.ipynb' did not match any files\n"
     ]
    }
   ],
   "source": [
    "!git add $(Neighbourhood_data_cleaning_and_merging.ipynb $0)"
   ]
  },
  {
   "cell_type": "code",
   "execution_count": 35,
   "id": "704a9e2f",
   "metadata": {},
   "outputs": [
    {
     "name": "stdout",
     "output_type": "stream",
     "text": [
      "On branch main\n",
      "Your branch is up to date with 'origin/main'.\n",
      "\n",
      "nothing to commit, working tree clean\n"
     ]
    }
   ],
   "source": [
    "# Check the status\n",
    "!git status"
   ]
  },
  {
   "cell_type": "code",
   "execution_count": 36,
   "id": "c32c64f0",
   "metadata": {},
   "outputs": [
    {
     "name": "stdout",
     "output_type": "stream",
     "text": [
      "On branch main\n",
      "Your branch is up to date with 'origin/main'.\n",
      "\n",
      "nothing to commit, working tree clean\n"
     ]
    }
   ],
   "source": [
    "# Commit the file\n",
    "!git commit -m \"Add $(basename $0)\""
   ]
  },
  {
   "cell_type": "code",
   "execution_count": 37,
   "id": "cb20e1d7",
   "metadata": {},
   "outputs": [
    {
     "name": "stderr",
     "output_type": "stream",
     "text": [
      "Everything up-to-date\n"
     ]
    }
   ],
   "source": [
    "# Push the changes to the repository\n",
    "!git push origin main"
   ]
  },
  {
   "cell_type": "code",
   "execution_count": null,
   "id": "a7a541f3",
   "metadata": {},
   "outputs": [],
   "source": []
  }
 ],
 "metadata": {
  "kernelspec": {
   "display_name": "Python 3 (ipykernel)",
   "language": "python",
   "name": "python3"
  },
  "language_info": {
   "codemirror_mode": {
    "name": "ipython",
    "version": 3
   },
   "file_extension": ".py",
   "mimetype": "text/x-python",
   "name": "python",
   "nbconvert_exporter": "python",
   "pygments_lexer": "ipython3",
   "version": "3.10.9"
  }
 },
 "nbformat": 4,
 "nbformat_minor": 5
}

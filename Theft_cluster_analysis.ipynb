{
  "cells": [
    {
      "cell_type": "markdown",
      "metadata": {
        "id": "view-in-github",
        "colab_type": "text"
      },
      "source": [
        "<a href=\"https://colab.research.google.com/github/tamarm/Amateurs-in-the-Dataverse/blob/main/Theft_cluster_analysis.ipynb\" target=\"_parent\"><img src=\"https://colab.research.google.com/assets/colab-badge.svg\" alt=\"Open In Colab\"/></a>"
      ]
    },
    {
      "cell_type": "markdown",
      "metadata": {
        "id": "Rc5JlK6fLLeI"
      },
      "source": [
        "#Setup"
      ]
    },
    {
      "cell_type": "code",
      "execution_count": 2,
      "metadata": {
        "id": "EB98ZXR8P9N-"
      },
      "outputs": [],
      "source": [
        "path = '/content/drive/MyDrive/Academia/degrees/MA in UofT/Courses/CME538: Data Science/Team Amateurs in the Dataverse/data'\n"
      ]
    },
    {
      "cell_type": "code",
      "execution_count": 1,
      "metadata": {
        "colab": {
          "base_uri": "https://localhost:8080/"
        },
        "id": "aXUrZ82qRD16",
        "outputId": "323b6f89-d498-4e29-a317-124f86964449"
      },
      "outputs": [
        {
          "output_type": "stream",
          "name": "stdout",
          "text": [
            "Mounted at /content/drive\n"
          ]
        }
      ],
      "source": [
        "from google.colab import drive\n",
        "drive.mount('/content/drive')"
      ]
    },
    {
      "cell_type": "markdown",
      "metadata": {
        "id": "WqMNclOsJpph"
      },
      "source": [
        "##Import package and set defaults"
      ]
    },
    {
      "cell_type": "code",
      "execution_count": 3,
      "metadata": {
        "id": "E8hqMSOov6O7"
      },
      "outputs": [],
      "source": [
        "import matplotlib.pyplot as plt\n",
        "import seaborn as sns"
      ]
    },
    {
      "cell_type": "code",
      "execution_count": 4,
      "metadata": {
        "id": "1XGGY9MoP5k9"
      },
      "outputs": [],
      "source": [
        "import pandas as pd\n",
        "import numpy as np\n",
        "import geopandas as gpd\n"
      ]
    },
    {
      "cell_type": "code",
      "execution_count": 5,
      "metadata": {
        "id": "jXEsduz-dgwi"
      },
      "outputs": [],
      "source": [
        "from shapely.geometry import MultiPoint,Point\n",
        "\n"
      ]
    },
    {
      "cell_type": "code",
      "execution_count": 6,
      "metadata": {
        "id": "L0TX7CJOQcex"
      },
      "outputs": [],
      "source": [
        "pd.set_option('display.max_columns', None)\n",
        "pd.set_option('display.float_format', '{:.2f}'.format)\n",
        "\n"
      ]
    },
    {
      "cell_type": "markdown",
      "source": [
        "##Geospatial shared resources"
      ],
      "metadata": {
        "id": "BffF6HfY3d3K"
      }
    },
    {
      "cell_type": "code",
      "source": [
        "point_zero = MultiPoint([Point(0, 0)])\n"
      ],
      "metadata": {
        "id": "60VpeobC3dm_"
      },
      "execution_count": 7,
      "outputs": []
    },
    {
      "cell_type": "code",
      "execution_count": 8,
      "metadata": {
        "id": "5MsWbGOt6AqG"
      },
      "outputs": [],
      "source": [
        "def change_crs(df, crs=3347):\n",
        "  print(\"Valid rows before crs change:\",len(df[df.geometry.is_valid]))\n",
        "  df.geometry = df.geometry.to_crs(epsg=crs)\n",
        "  print(\"Valid rows after crs change:\",len(df[df.geometry.is_valid]))\n",
        "  return df\n",
        "\n"
      ]
    },
    {
      "cell_type": "markdown",
      "metadata": {
        "id": "C4wP-pUhNIcp"
      },
      "source": [
        "#Data Analysis"
      ]
    },
    {
      "cell_type": "markdown",
      "metadata": {
        "id": "eF-TpRlKsPxZ"
      },
      "source": [
        "##Theft data\n"
      ]
    },
    {
      "cell_type": "code",
      "source": [
        "name = \"car_with_n_and_p.json\"\n",
        "car = gpd.read_file(f\"{path}/{name}\")\n",
        "car.head()"
      ],
      "metadata": {
        "colab": {
          "base_uri": "https://localhost:8080/",
          "height": 0
        },
        "id": "SZ4mosghQdWU",
        "outputId": "1f42c1ed-541a-435b-ec8b-2bd80c42d208"
      },
      "execution_count": 9,
      "outputs": [
        {
          "output_type": "execute_result",
          "data": {
            "text/plain": [
              "  EVENT_UNIQUE_ID   OCC_DATE  OCC_YEAR OCC_MONTH  OCC_DAY  OCC_DOY  \\\n",
              "0  GO-20141263029 2014-01-01   2014.00   January     1.00     1.00   \n",
              "1  GO-20141261694 2014-01-01   2014.00   January     1.00     1.00   \n",
              "2  GO-20149000046 2014-01-01   2014.00   January     1.00     1.00   \n",
              "3  GO-20149000033 2014-01-01   2014.00   January     1.00     1.00   \n",
              "4  GO-20141262977 2014-01-01   2014.00   January     1.00     1.00   \n",
              "\n",
              "      OCC_DOW  OCC_HOUR DIVISION  \\\n",
              "0  Wednesday      15.00      D22   \n",
              "1  Wednesday       1.00      D51   \n",
              "2  Wednesday       0.00      D14   \n",
              "3  Wednesday       3.00      D14   \n",
              "4  Wednesday      14.00      D11   \n",
              "\n",
              "                                       LOCATION_TYPE PREMISES_TYPE  \\\n",
              "0  Parking Lots (Apt., Commercial Or Non-Commercial)       Outside   \n",
              "1  Commercial Dwelling Unit (Hotel, Motel, B & B,...    Commercial   \n",
              "2  Streets, Roads, Highways (Bicycle Path, Privat...       Outside   \n",
              "3  Parking Lots (Apt., Commercial Or Non-Commercial)       Outside   \n",
              "4  Parking Lots (Apt., Commercial Or Non-Commercial)       Outside   \n",
              "\n",
              "                          OFFENCE HOOD_158 year_month  index_right    _id  \\\n",
              "0  Theft From Motor Vehicle Under      161    2014-01        44.00  45.00   \n",
              "1  Theft From Motor Vehicle Under      166    2014-01        39.00  40.00   \n",
              "2  Theft From Motor Vehicle Under      078    2014-01        80.00  81.00   \n",
              "3  Theft From Motor Vehicle Under      081    2014-01       105.00 106.00   \n",
              "4  Theft From Motor Vehicle Under      085    2014-01       102.00 103.00   \n",
              "\n",
              "  neighbourhood_id                     neighbourhood_name  \\\n",
              "0              161                      Humber Bay Shores   \n",
              "1              166  St Lawrence-East Bayfront-The Islands   \n",
              "2              078                   Kensington-Chinatown   \n",
              "3              081                      Trinity-Bellwoods   \n",
              "4              085                         South Parkdale   \n",
              "\n",
              "                         CLASSIFICATION CLASSIFICATION_CODE  \\\n",
              "0  Not an NIA or Emerging Neighbourhood                  NA   \n",
              "1  Not an NIA or Emerging Neighbourhood                  NA   \n",
              "2  Not an NIA or Emerging Neighbourhood                  NA   \n",
              "3  Not an NIA or Emerging Neighbourhood                  NA   \n",
              "4        Neighbourhood Improvement Area                 NIA   \n",
              "\n",
              "   neighborhood_area  park_area  park_density  park_count  closest_park_index  \\\n",
              "0         1656622.57  456033.16         27.53       15.00                1568   \n",
              "1        11875224.03 2792382.24         23.51       53.00                1890   \n",
              "2         1610389.49   59567.09          3.70       10.00                1779   \n",
              "3         1815085.68  188258.20         10.37        8.00                2830   \n",
              "4         2400398.26  504977.86         21.04       29.00                1899   \n",
              "\n",
              "          closest_park_name  closest_park_distance closest_park_category  \\\n",
              "0          TRCA LANDS ( 32)                  99.67             Near Park   \n",
              "1               BERCZY PARK                 153.29             Near Park   \n",
              "2      BELLEVUE SQUARE PARK                 140.17             Near Park   \n",
              "3  FRED HAMILTON PLAYGROUND                 114.46             Near Park   \n",
              "4       SUNNYSIDE BIKE PARK                  20.70               In Park   \n",
              "\n",
              "  closest_park_type                             geometry  \n",
              "0     Neighbourhood  MULTIPOINT (7217540.389 923750.421)  \n",
              "1          Parkette  MULTIPOINT (7225614.616 928062.742)  \n",
              "2          Parkette  MULTIPOINT (7223387.097 928306.715)  \n",
              "3     Neighbourhood  MULTIPOINT (7221907.242 928266.306)  \n",
              "4     Neighbourhood  MULTIPOINT (7218532.189 925500.512)  "
            ],
            "text/html": [
              "\n",
              "  <div id=\"df-2dda922a-891f-44fb-b1d8-7c80cde17aff\" class=\"colab-df-container\">\n",
              "    <div>\n",
              "<style scoped>\n",
              "    .dataframe tbody tr th:only-of-type {\n",
              "        vertical-align: middle;\n",
              "    }\n",
              "\n",
              "    .dataframe tbody tr th {\n",
              "        vertical-align: top;\n",
              "    }\n",
              "\n",
              "    .dataframe thead th {\n",
              "        text-align: right;\n",
              "    }\n",
              "</style>\n",
              "<table border=\"1\" class=\"dataframe\">\n",
              "  <thead>\n",
              "    <tr style=\"text-align: right;\">\n",
              "      <th></th>\n",
              "      <th>EVENT_UNIQUE_ID</th>\n",
              "      <th>OCC_DATE</th>\n",
              "      <th>OCC_YEAR</th>\n",
              "      <th>OCC_MONTH</th>\n",
              "      <th>OCC_DAY</th>\n",
              "      <th>OCC_DOY</th>\n",
              "      <th>OCC_DOW</th>\n",
              "      <th>OCC_HOUR</th>\n",
              "      <th>DIVISION</th>\n",
              "      <th>LOCATION_TYPE</th>\n",
              "      <th>PREMISES_TYPE</th>\n",
              "      <th>OFFENCE</th>\n",
              "      <th>HOOD_158</th>\n",
              "      <th>year_month</th>\n",
              "      <th>index_right</th>\n",
              "      <th>_id</th>\n",
              "      <th>neighbourhood_id</th>\n",
              "      <th>neighbourhood_name</th>\n",
              "      <th>CLASSIFICATION</th>\n",
              "      <th>CLASSIFICATION_CODE</th>\n",
              "      <th>neighborhood_area</th>\n",
              "      <th>park_area</th>\n",
              "      <th>park_density</th>\n",
              "      <th>park_count</th>\n",
              "      <th>closest_park_index</th>\n",
              "      <th>closest_park_name</th>\n",
              "      <th>closest_park_distance</th>\n",
              "      <th>closest_park_category</th>\n",
              "      <th>closest_park_type</th>\n",
              "      <th>geometry</th>\n",
              "    </tr>\n",
              "  </thead>\n",
              "  <tbody>\n",
              "    <tr>\n",
              "      <th>0</th>\n",
              "      <td>GO-20141263029</td>\n",
              "      <td>2014-01-01</td>\n",
              "      <td>2014.00</td>\n",
              "      <td>January</td>\n",
              "      <td>1.00</td>\n",
              "      <td>1.00</td>\n",
              "      <td>Wednesday</td>\n",
              "      <td>15.00</td>\n",
              "      <td>D22</td>\n",
              "      <td>Parking Lots (Apt., Commercial Or Non-Commercial)</td>\n",
              "      <td>Outside</td>\n",
              "      <td>Theft From Motor Vehicle Under</td>\n",
              "      <td>161</td>\n",
              "      <td>2014-01</td>\n",
              "      <td>44.00</td>\n",
              "      <td>45.00</td>\n",
              "      <td>161</td>\n",
              "      <td>Humber Bay Shores</td>\n",
              "      <td>Not an NIA or Emerging Neighbourhood</td>\n",
              "      <td>NA</td>\n",
              "      <td>1656622.57</td>\n",
              "      <td>456033.16</td>\n",
              "      <td>27.53</td>\n",
              "      <td>15.00</td>\n",
              "      <td>1568</td>\n",
              "      <td>TRCA LANDS ( 32)</td>\n",
              "      <td>99.67</td>\n",
              "      <td>Near Park</td>\n",
              "      <td>Neighbourhood</td>\n",
              "      <td>MULTIPOINT (7217540.389 923750.421)</td>\n",
              "    </tr>\n",
              "    <tr>\n",
              "      <th>1</th>\n",
              "      <td>GO-20141261694</td>\n",
              "      <td>2014-01-01</td>\n",
              "      <td>2014.00</td>\n",
              "      <td>January</td>\n",
              "      <td>1.00</td>\n",
              "      <td>1.00</td>\n",
              "      <td>Wednesday</td>\n",
              "      <td>1.00</td>\n",
              "      <td>D51</td>\n",
              "      <td>Commercial Dwelling Unit (Hotel, Motel, B &amp; B,...</td>\n",
              "      <td>Commercial</td>\n",
              "      <td>Theft From Motor Vehicle Under</td>\n",
              "      <td>166</td>\n",
              "      <td>2014-01</td>\n",
              "      <td>39.00</td>\n",
              "      <td>40.00</td>\n",
              "      <td>166</td>\n",
              "      <td>St Lawrence-East Bayfront-The Islands</td>\n",
              "      <td>Not an NIA or Emerging Neighbourhood</td>\n",
              "      <td>NA</td>\n",
              "      <td>11875224.03</td>\n",
              "      <td>2792382.24</td>\n",
              "      <td>23.51</td>\n",
              "      <td>53.00</td>\n",
              "      <td>1890</td>\n",
              "      <td>BERCZY PARK</td>\n",
              "      <td>153.29</td>\n",
              "      <td>Near Park</td>\n",
              "      <td>Parkette</td>\n",
              "      <td>MULTIPOINT (7225614.616 928062.742)</td>\n",
              "    </tr>\n",
              "    <tr>\n",
              "      <th>2</th>\n",
              "      <td>GO-20149000046</td>\n",
              "      <td>2014-01-01</td>\n",
              "      <td>2014.00</td>\n",
              "      <td>January</td>\n",
              "      <td>1.00</td>\n",
              "      <td>1.00</td>\n",
              "      <td>Wednesday</td>\n",
              "      <td>0.00</td>\n",
              "      <td>D14</td>\n",
              "      <td>Streets, Roads, Highways (Bicycle Path, Privat...</td>\n",
              "      <td>Outside</td>\n",
              "      <td>Theft From Motor Vehicle Under</td>\n",
              "      <td>078</td>\n",
              "      <td>2014-01</td>\n",
              "      <td>80.00</td>\n",
              "      <td>81.00</td>\n",
              "      <td>078</td>\n",
              "      <td>Kensington-Chinatown</td>\n",
              "      <td>Not an NIA or Emerging Neighbourhood</td>\n",
              "      <td>NA</td>\n",
              "      <td>1610389.49</td>\n",
              "      <td>59567.09</td>\n",
              "      <td>3.70</td>\n",
              "      <td>10.00</td>\n",
              "      <td>1779</td>\n",
              "      <td>BELLEVUE SQUARE PARK</td>\n",
              "      <td>140.17</td>\n",
              "      <td>Near Park</td>\n",
              "      <td>Parkette</td>\n",
              "      <td>MULTIPOINT (7223387.097 928306.715)</td>\n",
              "    </tr>\n",
              "    <tr>\n",
              "      <th>3</th>\n",
              "      <td>GO-20149000033</td>\n",
              "      <td>2014-01-01</td>\n",
              "      <td>2014.00</td>\n",
              "      <td>January</td>\n",
              "      <td>1.00</td>\n",
              "      <td>1.00</td>\n",
              "      <td>Wednesday</td>\n",
              "      <td>3.00</td>\n",
              "      <td>D14</td>\n",
              "      <td>Parking Lots (Apt., Commercial Or Non-Commercial)</td>\n",
              "      <td>Outside</td>\n",
              "      <td>Theft From Motor Vehicle Under</td>\n",
              "      <td>081</td>\n",
              "      <td>2014-01</td>\n",
              "      <td>105.00</td>\n",
              "      <td>106.00</td>\n",
              "      <td>081</td>\n",
              "      <td>Trinity-Bellwoods</td>\n",
              "      <td>Not an NIA or Emerging Neighbourhood</td>\n",
              "      <td>NA</td>\n",
              "      <td>1815085.68</td>\n",
              "      <td>188258.20</td>\n",
              "      <td>10.37</td>\n",
              "      <td>8.00</td>\n",
              "      <td>2830</td>\n",
              "      <td>FRED HAMILTON PLAYGROUND</td>\n",
              "      <td>114.46</td>\n",
              "      <td>Near Park</td>\n",
              "      <td>Neighbourhood</td>\n",
              "      <td>MULTIPOINT (7221907.242 928266.306)</td>\n",
              "    </tr>\n",
              "    <tr>\n",
              "      <th>4</th>\n",
              "      <td>GO-20141262977</td>\n",
              "      <td>2014-01-01</td>\n",
              "      <td>2014.00</td>\n",
              "      <td>January</td>\n",
              "      <td>1.00</td>\n",
              "      <td>1.00</td>\n",
              "      <td>Wednesday</td>\n",
              "      <td>14.00</td>\n",
              "      <td>D11</td>\n",
              "      <td>Parking Lots (Apt., Commercial Or Non-Commercial)</td>\n",
              "      <td>Outside</td>\n",
              "      <td>Theft From Motor Vehicle Under</td>\n",
              "      <td>085</td>\n",
              "      <td>2014-01</td>\n",
              "      <td>102.00</td>\n",
              "      <td>103.00</td>\n",
              "      <td>085</td>\n",
              "      <td>South Parkdale</td>\n",
              "      <td>Neighbourhood Improvement Area</td>\n",
              "      <td>NIA</td>\n",
              "      <td>2400398.26</td>\n",
              "      <td>504977.86</td>\n",
              "      <td>21.04</td>\n",
              "      <td>29.00</td>\n",
              "      <td>1899</td>\n",
              "      <td>SUNNYSIDE BIKE PARK</td>\n",
              "      <td>20.70</td>\n",
              "      <td>In Park</td>\n",
              "      <td>Neighbourhood</td>\n",
              "      <td>MULTIPOINT (7218532.189 925500.512)</td>\n",
              "    </tr>\n",
              "  </tbody>\n",
              "</table>\n",
              "</div>\n",
              "    <div class=\"colab-df-buttons\">\n",
              "\n",
              "  <div class=\"colab-df-container\">\n",
              "    <button class=\"colab-df-convert\" onclick=\"convertToInteractive('df-2dda922a-891f-44fb-b1d8-7c80cde17aff')\"\n",
              "            title=\"Convert this dataframe to an interactive table.\"\n",
              "            style=\"display:none;\">\n",
              "\n",
              "  <svg xmlns=\"http://www.w3.org/2000/svg\" height=\"24px\" viewBox=\"0 -960 960 960\">\n",
              "    <path d=\"M120-120v-720h720v720H120Zm60-500h600v-160H180v160Zm220 220h160v-160H400v160Zm0 220h160v-160H400v160ZM180-400h160v-160H180v160Zm440 0h160v-160H620v160ZM180-180h160v-160H180v160Zm440 0h160v-160H620v160Z\"/>\n",
              "  </svg>\n",
              "    </button>\n",
              "\n",
              "  <style>\n",
              "    .colab-df-container {\n",
              "      display:flex;\n",
              "      gap: 12px;\n",
              "    }\n",
              "\n",
              "    .colab-df-convert {\n",
              "      background-color: #E8F0FE;\n",
              "      border: none;\n",
              "      border-radius: 50%;\n",
              "      cursor: pointer;\n",
              "      display: none;\n",
              "      fill: #1967D2;\n",
              "      height: 32px;\n",
              "      padding: 0 0 0 0;\n",
              "      width: 32px;\n",
              "    }\n",
              "\n",
              "    .colab-df-convert:hover {\n",
              "      background-color: #E2EBFA;\n",
              "      box-shadow: 0px 1px 2px rgba(60, 64, 67, 0.3), 0px 1px 3px 1px rgba(60, 64, 67, 0.15);\n",
              "      fill: #174EA6;\n",
              "    }\n",
              "\n",
              "    .colab-df-buttons div {\n",
              "      margin-bottom: 4px;\n",
              "    }\n",
              "\n",
              "    [theme=dark] .colab-df-convert {\n",
              "      background-color: #3B4455;\n",
              "      fill: #D2E3FC;\n",
              "    }\n",
              "\n",
              "    [theme=dark] .colab-df-convert:hover {\n",
              "      background-color: #434B5C;\n",
              "      box-shadow: 0px 1px 3px 1px rgba(0, 0, 0, 0.15);\n",
              "      filter: drop-shadow(0px 1px 2px rgba(0, 0, 0, 0.3));\n",
              "      fill: #FFFFFF;\n",
              "    }\n",
              "  </style>\n",
              "\n",
              "    <script>\n",
              "      const buttonEl =\n",
              "        document.querySelector('#df-2dda922a-891f-44fb-b1d8-7c80cde17aff button.colab-df-convert');\n",
              "      buttonEl.style.display =\n",
              "        google.colab.kernel.accessAllowed ? 'block' : 'none';\n",
              "\n",
              "      async function convertToInteractive(key) {\n",
              "        const element = document.querySelector('#df-2dda922a-891f-44fb-b1d8-7c80cde17aff');\n",
              "        const dataTable =\n",
              "          await google.colab.kernel.invokeFunction('convertToInteractive',\n",
              "                                                    [key], {});\n",
              "        if (!dataTable) return;\n",
              "\n",
              "        const docLinkHtml = 'Like what you see? Visit the ' +\n",
              "          '<a target=\"_blank\" href=https://colab.research.google.com/notebooks/data_table.ipynb>data table notebook</a>'\n",
              "          + ' to learn more about interactive tables.';\n",
              "        element.innerHTML = '';\n",
              "        dataTable['output_type'] = 'display_data';\n",
              "        await google.colab.output.renderOutput(dataTable, element);\n",
              "        const docLink = document.createElement('div');\n",
              "        docLink.innerHTML = docLinkHtml;\n",
              "        element.appendChild(docLink);\n",
              "      }\n",
              "    </script>\n",
              "  </div>\n",
              "\n",
              "\n",
              "<div id=\"df-7578e0f9-2183-4050-810a-cec443520235\">\n",
              "  <button class=\"colab-df-quickchart\" onclick=\"quickchart('df-7578e0f9-2183-4050-810a-cec443520235')\"\n",
              "            title=\"Suggest charts\"\n",
              "            style=\"display:none;\">\n",
              "\n",
              "<svg xmlns=\"http://www.w3.org/2000/svg\" height=\"24px\"viewBox=\"0 0 24 24\"\n",
              "     width=\"24px\">\n",
              "    <g>\n",
              "        <path d=\"M19 3H5c-1.1 0-2 .9-2 2v14c0 1.1.9 2 2 2h14c1.1 0 2-.9 2-2V5c0-1.1-.9-2-2-2zM9 17H7v-7h2v7zm4 0h-2V7h2v10zm4 0h-2v-4h2v4z\"/>\n",
              "    </g>\n",
              "</svg>\n",
              "  </button>\n",
              "\n",
              "<style>\n",
              "  .colab-df-quickchart {\n",
              "      --bg-color: #E8F0FE;\n",
              "      --fill-color: #1967D2;\n",
              "      --hover-bg-color: #E2EBFA;\n",
              "      --hover-fill-color: #174EA6;\n",
              "      --disabled-fill-color: #AAA;\n",
              "      --disabled-bg-color: #DDD;\n",
              "  }\n",
              "\n",
              "  [theme=dark] .colab-df-quickchart {\n",
              "      --bg-color: #3B4455;\n",
              "      --fill-color: #D2E3FC;\n",
              "      --hover-bg-color: #434B5C;\n",
              "      --hover-fill-color: #FFFFFF;\n",
              "      --disabled-bg-color: #3B4455;\n",
              "      --disabled-fill-color: #666;\n",
              "  }\n",
              "\n",
              "  .colab-df-quickchart {\n",
              "    background-color: var(--bg-color);\n",
              "    border: none;\n",
              "    border-radius: 50%;\n",
              "    cursor: pointer;\n",
              "    display: none;\n",
              "    fill: var(--fill-color);\n",
              "    height: 32px;\n",
              "    padding: 0;\n",
              "    width: 32px;\n",
              "  }\n",
              "\n",
              "  .colab-df-quickchart:hover {\n",
              "    background-color: var(--hover-bg-color);\n",
              "    box-shadow: 0 1px 2px rgba(60, 64, 67, 0.3), 0 1px 3px 1px rgba(60, 64, 67, 0.15);\n",
              "    fill: var(--button-hover-fill-color);\n",
              "  }\n",
              "\n",
              "  .colab-df-quickchart-complete:disabled,\n",
              "  .colab-df-quickchart-complete:disabled:hover {\n",
              "    background-color: var(--disabled-bg-color);\n",
              "    fill: var(--disabled-fill-color);\n",
              "    box-shadow: none;\n",
              "  }\n",
              "\n",
              "  .colab-df-spinner {\n",
              "    border: 2px solid var(--fill-color);\n",
              "    border-color: transparent;\n",
              "    border-bottom-color: var(--fill-color);\n",
              "    animation:\n",
              "      spin 1s steps(1) infinite;\n",
              "  }\n",
              "\n",
              "  @keyframes spin {\n",
              "    0% {\n",
              "      border-color: transparent;\n",
              "      border-bottom-color: var(--fill-color);\n",
              "      border-left-color: var(--fill-color);\n",
              "    }\n",
              "    20% {\n",
              "      border-color: transparent;\n",
              "      border-left-color: var(--fill-color);\n",
              "      border-top-color: var(--fill-color);\n",
              "    }\n",
              "    30% {\n",
              "      border-color: transparent;\n",
              "      border-left-color: var(--fill-color);\n",
              "      border-top-color: var(--fill-color);\n",
              "      border-right-color: var(--fill-color);\n",
              "    }\n",
              "    40% {\n",
              "      border-color: transparent;\n",
              "      border-right-color: var(--fill-color);\n",
              "      border-top-color: var(--fill-color);\n",
              "    }\n",
              "    60% {\n",
              "      border-color: transparent;\n",
              "      border-right-color: var(--fill-color);\n",
              "    }\n",
              "    80% {\n",
              "      border-color: transparent;\n",
              "      border-right-color: var(--fill-color);\n",
              "      border-bottom-color: var(--fill-color);\n",
              "    }\n",
              "    90% {\n",
              "      border-color: transparent;\n",
              "      border-bottom-color: var(--fill-color);\n",
              "    }\n",
              "  }\n",
              "</style>\n",
              "\n",
              "  <script>\n",
              "    async function quickchart(key) {\n",
              "      const quickchartButtonEl =\n",
              "        document.querySelector('#' + key + ' button');\n",
              "      quickchartButtonEl.disabled = true;  // To prevent multiple clicks.\n",
              "      quickchartButtonEl.classList.add('colab-df-spinner');\n",
              "      try {\n",
              "        const charts = await google.colab.kernel.invokeFunction(\n",
              "            'suggestCharts', [key], {});\n",
              "      } catch (error) {\n",
              "        console.error('Error during call to suggestCharts:', error);\n",
              "      }\n",
              "      quickchartButtonEl.classList.remove('colab-df-spinner');\n",
              "      quickchartButtonEl.classList.add('colab-df-quickchart-complete');\n",
              "    }\n",
              "    (() => {\n",
              "      let quickchartButtonEl =\n",
              "        document.querySelector('#df-7578e0f9-2183-4050-810a-cec443520235 button');\n",
              "      quickchartButtonEl.style.display =\n",
              "        google.colab.kernel.accessAllowed ? 'block' : 'none';\n",
              "    })();\n",
              "  </script>\n",
              "</div>\n",
              "\n",
              "    </div>\n",
              "  </div>\n"
            ],
            "application/vnd.google.colaboratory.intrinsic+json": {
              "type": "dataframe",
              "variable_name": "car"
            }
          },
          "metadata": {},
          "execution_count": 9
        }
      ]
    },
    {
      "cell_type": "code",
      "source": [
        "car.crs #make sure the right crs"
      ],
      "metadata": {
        "colab": {
          "base_uri": "https://localhost:8080/"
        },
        "id": "njTkiEwhXgO1",
        "outputId": "17a1f5f8-e2dc-4e40-fc64-0774fd87c285"
      },
      "execution_count": 10,
      "outputs": [
        {
          "output_type": "execute_result",
          "data": {
            "text/plain": [
              "<Projected CRS: EPSG:3347>\n",
              "Name: NAD83 / Statistics Canada Lambert\n",
              "Axis Info [cartesian]:\n",
              "- E[east]: Easting (metre)\n",
              "- N[north]: Northing (metre)\n",
              "Area of Use:\n",
              "- name: Canada - onshore and offshore - Alberta; British Columbia; Manitoba; New Brunswick; Newfoundland and Labrador; Northwest Territories; Nova Scotia; Nunavut; Ontario; Prince Edward Island; Quebec; Saskatchewan; Yukon.\n",
              "- bounds: (-141.01, 38.21, -40.73, 86.46)\n",
              "Coordinate Operation:\n",
              "- name: Statistics Canada Lambert\n",
              "- method: Lambert Conic Conformal (2SP)\n",
              "Datum: North American Datum 1983\n",
              "- Ellipsoid: GRS 1980\n",
              "- Prime Meridian: Greenwich"
            ]
          },
          "metadata": {},
          "execution_count": 10
        }
      ]
    },
    {
      "cell_type": "code",
      "source": [
        "name = \"bike_with_n_and_p.json\"\n",
        "bike = gpd.read_file(f\"{path}/{name}\")\n",
        "bike.head()"
      ],
      "metadata": {
        "id": "32n5hDwBV0-F"
      },
      "execution_count": null,
      "outputs": []
    },
    {
      "cell_type": "code",
      "source": [
        "bike.crs #make sure the right crs"
      ],
      "metadata": {
        "id": "2Aft4azIXl9L"
      },
      "execution_count": null,
      "outputs": []
    },
    {
      "cell_type": "code",
      "source": [
        "name = \"neighbourhoods_with_park.json\"\n",
        "Neighbourhoods = gpd.read_file(f\"{path}/{name}\")\n",
        "Neighbourhoods.head()"
      ],
      "metadata": {
        "id": "eq64nbJPX7a-"
      },
      "execution_count": null,
      "outputs": []
    },
    {
      "cell_type": "code",
      "source": [
        "Neighbourhoods.crs"
      ],
      "metadata": {
        "id": "OyavfwjZX_oc"
      },
      "execution_count": null,
      "outputs": []
    },
    {
      "cell_type": "code",
      "source": [
        "name = 'parks.json'\n",
        "parks = gpd.read_file(f\"{path}/{name}\")\n",
        "parks.head()"
      ],
      "metadata": {
        "id": "gGzIqv94YwsE"
      },
      "execution_count": null,
      "outputs": []
    },
    {
      "cell_type": "code",
      "source": [
        "parks.crs"
      ],
      "metadata": {
        "id": "Pq7q1GeuYyIp"
      },
      "execution_count": null,
      "outputs": []
    },
    {
      "cell_type": "markdown",
      "metadata": {
        "id": "ZodfcwU5JDUf"
      },
      "source": [
        "## DBSCAN"
      ]
    },
    {
      "cell_type": "code",
      "source": [
        "import folium\n",
        "from folium import FeatureGroup\n",
        "import geopandas as gpd\n",
        "import random\n",
        "\n",
        "from sklearn.cluster import DBSCAN\n"
      ],
      "metadata": {
        "id": "cD5qSWzfQjJv"
      },
      "execution_count": null,
      "outputs": []
    },
    {
      "cell_type": "code",
      "source": [
        "name = \"bike_with_n_p.json\"\n",
        "bike = gpd.read_file(f\"{path}/{name}\")\n",
        "bike.head()"
      ],
      "metadata": {
        "id": "Txi9-upsQEVk"
      },
      "execution_count": null,
      "outputs": []
    },
    {
      "cell_type": "code",
      "execution_count": null,
      "metadata": {
        "id": "5SZC0Li5E2vf"
      },
      "outputs": [],
      "source": [
        "from sklearn.cluster import DBSCAN\n",
        "# Extract coordinates\n",
        "coords = np.array(list(bike.explode(index_parts=False).geometry.apply(lambda geom: (geom.x, geom.y))))\n",
        "\n",
        "# Apply DBSCAN\n",
        "eps = 100  # Distance in meters\n",
        "min_samples = 5  # Minimum thefts to form a cluster\n",
        "db = DBSCAN(eps=eps, min_samples=min_samples, metric='euclidean').fit(coords)\n",
        "\n",
        "# Add cluster labels to the GeoDataFrame\n",
        "bike['cluster'] = db.labels_\n",
        "\n",
        "# Plot the results\n",
        "fig, ax = plt.subplots(figsize=(10, 10))\n",
        "base = Neighbourhoods.plot(ax=ax, color='white', edgecolor='black')  # Plot neighborhoods\n",
        "bike[bike['cluster'] != -1].plot(ax=base, column='cluster', cmap='viridis', legend=True, markersize=5)  # Hotspots\n",
        "bike[bike['cluster'] == -1].plot(ax=base, color='red', markersize=2, label='Noise')  # Noise points\n",
        "plt.legend()\n",
        "plt.title(\"Bike Theft Hotspots\")\n",
        "plt.show()\n"
      ]
    },
    {
      "cell_type": "code",
      "source": [
        "# Plot the results\n",
        "fig, ax = plt.subplots(figsize=(10, 10))\n",
        "base = Neighbourhoods.plot(ax=ax, color='white', edgecolor='black')  # Plot neighborhoods\n",
        "bike[bike['cluster'] != -1].plot(ax=base, column='cluster', cmap='viridis', legend=True, markersize=5)  # Hotspots\n",
        "bike[bike['cluster'] == -1].plot(ax=base, color='red', markersize=2, label='Noise')  # Noise points\n",
        "plt.legend()\n",
        "plt.title(\"Bike Theft Hotspots\")\n",
        "plt.show()\n"
      ],
      "metadata": {
        "id": "vsXjackWO7we"
      },
      "execution_count": null,
      "outputs": []
    },
    {
      "cell_type": "code",
      "execution_count": null,
      "metadata": {
        "id": "vzSizNRwIO8w"
      },
      "outputs": [],
      "source": [
        "# Extract coordinates\n",
        "coords = np.array(list(car.explode(index_parts=False).geometry.apply(lambda geom: (geom.x, geom.y))))\n",
        "\n",
        "# Apply DBSCAN\n",
        "eps = 100  # Distance in meters\n",
        "min_samples = 5  # Minimum thefts to form a cluster\n",
        "db = DBSCAN(eps=eps, min_samples=min_samples, metric='euclidean').fit(coords)\n",
        "\n",
        "# Add cluster labels to the GeoDataFrame\n",
        "car['cluster'] = db.labels_\n",
        "\n",
        "# Plot the results\n",
        "fig, ax = plt.subplots(figsize=(10, 10))\n",
        "base = Neighbourhoods.plot(ax=ax, color='white', edgecolor='black')  # Plot neighborhoods\n",
        "car[car['cluster'] != -1].plot(ax=base, column='cluster', cmap='viridis', legend=True, markersize=5)  # Hotspots\n",
        "car[car['cluster'] == -1].plot(ax=base, color='red', markersize=2, label='Noise')  # Noise points\n",
        "plt.legend()\n",
        "plt.title(\"Car Theft Hotspots\")\n",
        "plt.show()\n"
      ]
    },
    {
      "cell_type": "code",
      "execution_count": null,
      "metadata": {
        "id": "yBm1YHqgIfiv"
      },
      "outputs": [],
      "source": [
        "# Plot the results\n",
        "fig, ax = plt.subplots(figsize=(10, 10))\n",
        "base = Neighbourhoods.plot(ax=ax, color='white', edgecolor='black')  # Plot neighborhoods\n",
        "car[car['cluster'] != -1].plot(ax=base, column='cluster', cmap='viridis', legend=True, markersize=5)  # Hotspots\n",
        "plt.legend()\n",
        "plt.title(\"Car Theft Hotspots\")\n",
        "plt.show()\n"
      ]
    },
    {
      "cell_type": "code",
      "execution_count": null,
      "metadata": {
        "id": "prlluBluIsvo"
      },
      "outputs": [],
      "source": [
        "# Plot the results\n",
        "fig, ax = plt.subplots(figsize=(10, 10))\n",
        "base = Neighbourhoods.plot(ax=ax, color='white', edgecolor='black')  # Plot neighborhoods\n",
        "bike[bike['cluster'] != -1].plot(ax=base, column='cluster', cmap='viridis', legend=True, markersize=5)  # Hotspots\n",
        "plt.legend()\n",
        "plt.title(\"Bike Theft Hotspots\")\n",
        "plt.show()\n"
      ]
    },
    {
      "cell_type": "code",
      "execution_count": null,
      "metadata": {
        "id": "rxM3hI1jJVII"
      },
      "outputs": [],
      "source": [
        "# Plot neighborhoods and clusters\n",
        "fig, ax = plt.subplots(figsize=(12, 12))\n",
        "base = Neighbourhoods.plot(ax=ax, color='white', edgecolor='black', alpha=0.5)\n",
        "parks.plot(ax=base, color='green', alpha=0.4, label='Parks')\n",
        "bike[bike['cluster'] != -1].plot(ax=base, column='cluster', cmap='viridis',legend=True, markersize=5, label='Clusters')\n",
        "plt.legend()\n",
        "plt.title(\"Theft Clusters and Parks\")\n",
        "plt.show()"
      ]
    },
    {
      "cell_type": "code",
      "execution_count": null,
      "metadata": {
        "id": "9DZpuZM5JhKy"
      },
      "outputs": [],
      "source": [
        "# Plot neighborhoods and clusters\n",
        "fig, ax = plt.subplots(figsize=(12, 12))\n",
        "base = Neighbourhoods.plot(ax=ax, color='white', edgecolor='black', alpha=0.5)\n",
        "parks.plot(ax=base, color='green', alpha=0.4, label='Parks')\n",
        "car[car['cluster'] != -1].plot(ax=base, column='cluster', cmap='viridis', markersize=5, legend=True)\n",
        "plt.legend()\n",
        "plt.title(\"Theft Clusters and Parks\")\n",
        "plt.show()"
      ]
    },
    {
      "cell_type": "code",
      "source": [
        "from sklearn.cluster import DBSCAN\n",
        "# Extract coordinates\n",
        "coords = np.array(list(bike.explode(index_parts=False).geometry.apply(lambda geom: (geom.x, geom.y))))\n",
        "\n",
        "# Apply DBSCAN\n",
        "eps = 100  # Distance in meters\n",
        "min_samples = 20  # Minimum thefts to form a cluster\n",
        "db = DBSCAN(eps=eps, min_samples=min_samples, metric='euclidean').fit(coords)\n",
        "\n",
        "# Add cluster labels to the GeoDataFrame\n",
        "bike['cluster'] = db.labels_\n",
        "\n"
      ],
      "metadata": {
        "id": "dhFystgTPEVN"
      },
      "execution_count": null,
      "outputs": []
    },
    {
      "cell_type": "code",
      "execution_count": null,
      "metadata": {
        "id": "l9iaYSAdK7GS"
      },
      "outputs": [],
      "source": [
        "bike_cluster_size = bike['cluster'].value_counts()\n",
        "bike_cluster_size"
      ]
    },
    {
      "cell_type": "code",
      "execution_count": null,
      "metadata": {
        "id": "ABvG7jOJKDK0"
      },
      "outputs": [],
      "source": [
        "# Ensure data is in WGS 84 CRS\n",
        "bike_thefts = bike.explode(index_parts=False).to_crs(epsg=4326)\n",
        "neighborhoods = Neighbourhoods.to_crs(epsg=4326)\n",
        "parks1 = parks.to_crs(epsg=4326)\n",
        "\n",
        "# Create a base map centered on your area of interest\n",
        "center_coords = [bike_thefts.geometry.y.mean(), bike_thefts.geometry.x.mean()]\n",
        "m = folium.Map(location=center_coords, zoom_start=12)\n",
        "\n",
        "# Add neighborhoods as polygons\n",
        "neighborhood_layer = FeatureGroup(name=\"Neighborhoods\")\n",
        "for _, row in neighborhoods.iterrows():\n",
        "    folium.GeoJson(row.geometry,\n",
        "                   style_function=lambda x: {\"fillColor\": \"#ADD8E6\", \"color\": \"black\", \"weight\": 1, \"fillOpacity\": 0.3},\n",
        "                   tooltip=row['neighbourhood_name']).add_to(neighborhood_layer)\n",
        "neighborhood_layer.add_to(m)\n",
        "\n",
        "# Add parks1 as polygons\n",
        "park_layer = FeatureGroup(name=\"Parks\")\n",
        "for _, row in parks1.iterrows():\n",
        "    folium.GeoJson(row.geometry,\n",
        "                   style_function=lambda x: {\"fillColor\": \"green\", \"color\": \"green\", \"weight\": 1, \"fillOpacity\": 0.5},\n",
        "                   tooltip=row['AREA_NAME']).add_to(park_layer)\n",
        "park_layer.add_to(m)\n",
        "\n",
        "# Add theft clusters\n",
        "cluster_layer = FeatureGroup(name=\"Theft Clusters\")\n",
        "colors = [\"#\"+''.join([random.choice('ABCDEF0123456789') for _ in range(6)]) for _ in range(len(bike_thefts['cluster'].unique()))]\n",
        "\n",
        "for _, row in bike_thefts[bike_thefts['cluster'] != -1].iterrows():\n",
        "    cluster_color = colors[int(row['cluster'])]  # Assign a unique color to each cluster\n",
        "    folium.CircleMarker(\n",
        "        location=[row.geometry.y, row.geometry.x],\n",
        "        radius=5,\n",
        "        color=cluster_color,\n",
        "        fill=True,\n",
        "        fill_color=cluster_color,\n",
        "        fill_opacity=0.8,\n",
        "        tooltip=f\"Cluster: {bike_cluster_size[bike_cluster_size.index==row['cluster']].iloc[0]}\"\n",
        "    ).add_to(cluster_layer)\n",
        "cluster_layer.add_to(m)\n",
        "\n",
        "# Add layer control and display the map\n",
        "folium.LayerControl().add_to(m)\n",
        "m\n"
      ]
    },
    {
      "cell_type": "code",
      "execution_count": null,
      "metadata": {
        "id": "eUnaKZdtIogo"
      },
      "outputs": [],
      "source": [
        "car_cluster_size = car['cluster'].value_counts()\n",
        "car_cluster_size"
      ]
    },
    {
      "cell_type": "code",
      "source": [
        "# Ensure data is in WGS 84 CRS\n",
        "car_thefts = car.explode(index_parts=False).to_crs(epsg=4326)\n",
        "neighborhoods = Neighbourhoods.to_crs(epsg=4326)\n",
        "parks1 = parks.to_crs(epsg=4326)\n",
        "\n",
        "# Create a base map centered on your area of interest\n",
        "center_coords = [car_thefts.geometry.y.mean(), bike_thefts.geometry.x.mean()]\n",
        "m = folium.Map(location=center_coords, zoom_start=12)\n",
        "\n",
        "# Add neighborhoods as polygons\n",
        "neighborhood_layer = FeatureGroup(name=\"Neighborhoods\")\n",
        "for _, row in neighborhoods.iterrows():\n",
        "    folium.GeoJson(row.geometry,\n",
        "                   style_function=lambda x: {\"fillColor\": \"#ADD8E6\", \"color\": \"black\", \"weight\": 1, \"fillOpacity\": 0.3},\n",
        "                   tooltip=row['neighbourhood_name']).add_to(neighborhood_layer)\n",
        "neighborhood_layer.add_to(m)\n",
        "\n",
        "# Add parks1 as polygons\n",
        "park_layer = FeatureGroup(name=\"Parks\")\n",
        "for _, row in parks1.iterrows():\n",
        "    folium.GeoJson(row.geometry,\n",
        "                   style_function=lambda x: {\"fillColor\": \"green\", \"color\": \"green\", \"weight\": 1, \"fillOpacity\": 0.5},\n",
        "                   tooltip=row['AREA_NAME']).add_to(park_layer)\n",
        "park_layer.add_to(m)\n",
        "\n",
        "# Add theft clusters\n",
        "cluster_layer = FeatureGroup(name=\"Theft Clusters\")\n",
        "colors = [\"#\"+''.join([random.choice('ABCDEF0123456789') for _ in range(6)]) for _ in range(len(car_thefts['cluster'].unique()))]\n",
        "\n",
        "for _, row in car_thefts[car_thefts['cluster'] != -1].iterrows():\n",
        "    cluster_color = colors[int(row['cluster'])]  # Assign a unique color to each cluster\n",
        "    folium.CircleMarker(\n",
        "        location=[row.geometry.y, row.geometry.x],\n",
        "        radius=5,\n",
        "        color=cluster_color,\n",
        "        fill=True,\n",
        "        fill_color=cluster_color,\n",
        "        fill_opacity=0.8,\n",
        "        tooltip=f\"Cluster: {car_cluster_size[car_cluster_size.index==row['cluster']].values[0]}\"\n",
        "    ).add_to(cluster_layer)\n",
        "cluster_layer.add_to(m)\n",
        "\n",
        "# Add layer control and display the map\n",
        "folium.LayerControl().add_to(m)\n",
        "m\n"
      ],
      "metadata": {
        "id": "ELyA-PiTQ7Bq"
      },
      "execution_count": null,
      "outputs": []
    },
    {
      "cell_type": "markdown",
      "metadata": {
        "id": "hBK0WFEh0rp2"
      },
      "source": [
        "## Car Park analysis"
      ]
    },
    {
      "cell_type": "code",
      "execution_count": null,
      "metadata": {
        "id": "bhLEvg4Ouvyx"
      },
      "outputs": [],
      "source": [
        "!pip install folium"
      ]
    },
    {
      "cell_type": "code",
      "execution_count": null,
      "metadata": {
        "id": "J-MkF_5BuwNE"
      },
      "outputs": [],
      "source": [
        "import folium\n",
        "from folium.plugins import HeatMap"
      ]
    },
    {
      "cell_type": "code",
      "execution_count": null,
      "metadata": {
        "id": "PshJMnFbuztg"
      },
      "outputs": [],
      "source": [
        "map_5 = folium.Map(location=[43.6426, -79.3871],\n",
        "                   tiles='cartodbpositron',\n",
        "                   zoom_start=10)\n",
        "\n",
        "# Add points to the map\n",
        "HeatMap(data=list(zip(car.geometry.to_crs(epsg=4326).geometry.explode().y,\n",
        "                      car.geometry.to_crs(epsg=4326).geometry.explode().x)),\n",
        "        radius=20).add_to(map_5)\n",
        "\n",
        "# Display map\n",
        "map_5"
      ]
    },
    {
      "cell_type": "code",
      "source": [
        "plt.figure(figsize=(20, 10))\n",
        "\n",
        "sns.boxplot(data=car, x='OCC_HOUR', y='closest_park_distance')\n",
        "plt.xlabel(\"Hour\")\n",
        "plt.ylabel(\"Park distance\")\n",
        "plt.title(\"Park distance by hour in the day\")\n",
        "plt.show()\n"
      ],
      "metadata": {
        "id": "x-sWZt4MUnEk"
      },
      "execution_count": null,
      "outputs": []
    },
    {
      "cell_type": "code",
      "source": [
        "plt.figure(figsize=(20, 10))\n",
        "\n",
        "sns.countplot(data=car, x='OCC_HOUR')\n",
        "plt.xlabel(\"Hour\")\n",
        "plt.ylabel(\"Count\")\n",
        "plt.title(\"Number of thefts by hour in the day\")\n",
        "plt.show()\n"
      ],
      "metadata": {
        "id": "yC4daJjRYcDr"
      },
      "execution_count": null,
      "outputs": []
    },
    {
      "cell_type": "code",
      "source": [
        "plt.figure(figsize=(20, 10))\n",
        "\n",
        "sns.countplot(data=car, x='OCC_HOUR',hue='closest_park_type')\n",
        "plt.xlabel(\"Hour\")\n",
        "plt.ylabel(\"Count\")\n",
        "plt.title(\"Number of thefts by hour in the day\")\n",
        "plt.show()\n"
      ],
      "metadata": {
        "id": "5YtjzXzSZA-h"
      },
      "execution_count": null,
      "outputs": []
    },
    {
      "cell_type": "code",
      "source": [
        "car['OCC_DAY'].value_counts()"
      ],
      "metadata": {
        "id": "KQjQdt-DY4nz"
      },
      "execution_count": null,
      "outputs": []
    },
    {
      "cell_type": "markdown",
      "metadata": {
        "id": "o_jnR8jTMFXc"
      },
      "source": [
        "##Park analysis"
      ]
    },
    {
      "cell_type": "code",
      "source": [
        "bike"
      ],
      "metadata": {
        "id": "-tF5K6CRdJkC"
      },
      "execution_count": null,
      "outputs": []
    },
    {
      "cell_type": "code",
      "execution_count": null,
      "metadata": {
        "id": "nERvOaWMm_so"
      },
      "outputs": [],
      "source": [
        "plt.figure(figsize=(10, 6))\n",
        "\n",
        "monthly_avg = bike.groupby(['OCC_YEAR', 'OCC_MONTH'])['closest_park_distance'].mean().reset_index()\n",
        "\n",
        "sns.lineplot(data=monthly_avg, x='OCC_MONTH', y='closest_park_distance', hue='OCC_YEAR', palette=\"coolwarm\")\n",
        "\n",
        "plt.xlabel(\"Month\")\n",
        "plt.ylabel(\"Average Distance to Closest Park (meters)\")\n",
        "plt.title(\"Average Distance to Closest Park by Month, for Each Year\")\n",
        "plt.xticks(ticks=range(0, 12), labels=[\n",
        "    'Jan', 'Feb', 'Mar', 'Apr', 'May', 'Jun',\n",
        "    'Jul', 'Aug', 'Sep', 'Oct', 'Nov', 'Dec'\n",
        "])\n",
        "plt.legend(title=\"Year\")\n",
        "plt.show()\n"
      ]
    },
    {
      "cell_type": "code",
      "execution_count": null,
      "metadata": {
        "id": "vbMekJRhxV0T"
      },
      "outputs": [],
      "source": [
        "bike['PRIMARY_OFFENCE'].value_counts().head(50)"
      ]
    },
    {
      "cell_type": "code",
      "execution_count": null,
      "metadata": {
        "id": "uabx_wC_wTlC"
      },
      "outputs": [],
      "source": [
        "map_6 = folium.Map(location=[43.6426, -79.3871],\n",
        "                   tiles='cartodbpositron',\n",
        "                   zoom_start=10)\n",
        "\n",
        "# Add points to the map\n",
        "HeatMap(data=list(zip(bike.geometry.to_crs(epsg=4326).geometry.explode().y,\n",
        "                      bike.geometry.to_crs(epsg=4326).geometry.explode().x)),\n",
        "        radius=20).add_to(map_6)\n",
        "\n",
        "# Display map\n",
        "map_6"
      ]
    },
    {
      "cell_type": "markdown",
      "metadata": {
        "id": "g0NeJ98UPVxC"
      },
      "source": [
        "# Archive\n",
        "\n"
      ]
    },
    {
      "cell_type": "code",
      "execution_count": null,
      "metadata": {
        "colab": {
          "base_uri": "https://localhost:8080/"
        },
        "id": "lr_GleWkn8ws",
        "outputId": "a6f82c06-b803-44fd-a73d-c8b891481faf"
      },
      "outputs": [
        {
          "output_type": "stream",
          "name": "stdout",
          "text": [
            "Collecting osmnx\n",
            "  Downloading osmnx-2.0.0-py3-none-any.whl.metadata (4.8 kB)\n",
            "Requirement already satisfied: geopandas>=1.0 in /usr/local/lib/python3.10/dist-packages (from osmnx) (1.0.1)\n",
            "Requirement already satisfied: networkx>=2.5 in /usr/local/lib/python3.10/dist-packages (from osmnx) (3.4.2)\n",
            "Requirement already satisfied: numpy>=1.22 in /usr/local/lib/python3.10/dist-packages (from osmnx) (1.26.4)\n",
            "Requirement already satisfied: pandas>=1.4 in /usr/local/lib/python3.10/dist-packages (from osmnx) (2.2.2)\n",
            "Requirement already satisfied: requests>=2.27 in /usr/local/lib/python3.10/dist-packages (from osmnx) (2.32.3)\n",
            "Requirement already satisfied: shapely>=2.0 in /usr/local/lib/python3.10/dist-packages (from osmnx) (2.0.6)\n",
            "Requirement already satisfied: pyogrio>=0.7.2 in /usr/local/lib/python3.10/dist-packages (from geopandas>=1.0->osmnx) (0.10.0)\n",
            "Requirement already satisfied: packaging in /usr/local/lib/python3.10/dist-packages (from geopandas>=1.0->osmnx) (24.2)\n",
            "Requirement already satisfied: pyproj>=3.3.0 in /usr/local/lib/python3.10/dist-packages (from geopandas>=1.0->osmnx) (3.7.0)\n",
            "Requirement already satisfied: python-dateutil>=2.8.2 in /usr/local/lib/python3.10/dist-packages (from pandas>=1.4->osmnx) (2.8.2)\n",
            "Requirement already satisfied: pytz>=2020.1 in /usr/local/lib/python3.10/dist-packages (from pandas>=1.4->osmnx) (2024.2)\n",
            "Requirement already satisfied: tzdata>=2022.7 in /usr/local/lib/python3.10/dist-packages (from pandas>=1.4->osmnx) (2024.2)\n",
            "Requirement already satisfied: charset-normalizer<4,>=2 in /usr/local/lib/python3.10/dist-packages (from requests>=2.27->osmnx) (3.4.0)\n",
            "Requirement already satisfied: idna<4,>=2.5 in /usr/local/lib/python3.10/dist-packages (from requests>=2.27->osmnx) (3.10)\n",
            "Requirement already satisfied: urllib3<3,>=1.21.1 in /usr/local/lib/python3.10/dist-packages (from requests>=2.27->osmnx) (2.2.3)\n",
            "Requirement already satisfied: certifi>=2017.4.17 in /usr/local/lib/python3.10/dist-packages (from requests>=2.27->osmnx) (2024.8.30)\n",
            "Requirement already satisfied: six>=1.5 in /usr/local/lib/python3.10/dist-packages (from python-dateutil>=2.8.2->pandas>=1.4->osmnx) (1.16.0)\n",
            "Downloading osmnx-2.0.0-py3-none-any.whl (99 kB)\n",
            "\u001b[?25l   \u001b[90m━━━━━━━━━━━━━━━━━━━━━━━━━━━━━━━━━━━━━━━━\u001b[0m \u001b[32m0.0/99.4 kB\u001b[0m \u001b[31m?\u001b[0m eta \u001b[36m-:--:--\u001b[0m\r\u001b[2K   \u001b[90m━━━━━━━━━━━━━━━━━━━━━━━━━━━━━━━━━━━━━━━━\u001b[0m \u001b[32m99.4/99.4 kB\u001b[0m \u001b[31m7.3 MB/s\u001b[0m eta \u001b[36m0:00:00\u001b[0m\n",
            "\u001b[?25hInstalling collected packages: osmnx\n",
            "Successfully installed osmnx-2.0.0\n"
          ]
        }
      ],
      "source": [
        "!pip install osmnx"
      ]
    },
    {
      "cell_type": "code",
      "execution_count": null,
      "metadata": {
        "id": "HWp9QJBqn6c_"
      },
      "outputs": [],
      "source": [
        "import osmnx as ox\n",
        "import geopandas as gpd\n",
        "\n",
        "# Get place boundary related to the place name as a geodataframe\n"
      ]
    },
    {
      "cell_type": "code",
      "execution_count": null,
      "metadata": {
        "colab": {
          "base_uri": "https://localhost:8080/",
          "height": 170
        },
        "id": "24_C9ynioHNa",
        "outputId": "d1a7556f-8946-4920-cc9f-8f3e5458b7d7"
      },
      "outputs": [
        {
          "output_type": "execute_result",
          "data": {
            "text/plain": [
              "                                            geometry  bbox_west  bbox_south  \\\n",
              "0  POLYGON ((-79.63928 43.74984, -79.63853 43.749...     -79.64       43.58   \n",
              "\n",
              "   bbox_east  bbox_north   place_id  osm_type  osm_id   lat    lon     class  \\\n",
              "0     -79.11       43.86  323677062  relation  324211 43.65 -79.38  boundary   \n",
              "\n",
              "             type  place_rank  importance addresstype     name  \\\n",
              "0  administrative          12        0.77        city  Toronto   \n",
              "\n",
              "                                 display_name  \n",
              "0  Toronto, Golden Horseshoe, Ontario, Canada  "
            ],
            "text/html": [
              "\n",
              "  <div id=\"df-2588e6ec-0528-4650-aa9e-49a89fda09e7\" class=\"colab-df-container\">\n",
              "    <div>\n",
              "<style scoped>\n",
              "    .dataframe tbody tr th:only-of-type {\n",
              "        vertical-align: middle;\n",
              "    }\n",
              "\n",
              "    .dataframe tbody tr th {\n",
              "        vertical-align: top;\n",
              "    }\n",
              "\n",
              "    .dataframe thead th {\n",
              "        text-align: right;\n",
              "    }\n",
              "</style>\n",
              "<table border=\"1\" class=\"dataframe\">\n",
              "  <thead>\n",
              "    <tr style=\"text-align: right;\">\n",
              "      <th></th>\n",
              "      <th>geometry</th>\n",
              "      <th>bbox_west</th>\n",
              "      <th>bbox_south</th>\n",
              "      <th>bbox_east</th>\n",
              "      <th>bbox_north</th>\n",
              "      <th>place_id</th>\n",
              "      <th>osm_type</th>\n",
              "      <th>osm_id</th>\n",
              "      <th>lat</th>\n",
              "      <th>lon</th>\n",
              "      <th>class</th>\n",
              "      <th>type</th>\n",
              "      <th>place_rank</th>\n",
              "      <th>importance</th>\n",
              "      <th>addresstype</th>\n",
              "      <th>name</th>\n",
              "      <th>display_name</th>\n",
              "    </tr>\n",
              "  </thead>\n",
              "  <tbody>\n",
              "    <tr>\n",
              "      <th>0</th>\n",
              "      <td>POLYGON ((-79.63928 43.74984, -79.63853 43.749...</td>\n",
              "      <td>-79.64</td>\n",
              "      <td>43.58</td>\n",
              "      <td>-79.11</td>\n",
              "      <td>43.86</td>\n",
              "      <td>323677062</td>\n",
              "      <td>relation</td>\n",
              "      <td>324211</td>\n",
              "      <td>43.65</td>\n",
              "      <td>-79.38</td>\n",
              "      <td>boundary</td>\n",
              "      <td>administrative</td>\n",
              "      <td>12</td>\n",
              "      <td>0.77</td>\n",
              "      <td>city</td>\n",
              "      <td>Toronto</td>\n",
              "      <td>Toronto, Golden Horseshoe, Ontario, Canada</td>\n",
              "    </tr>\n",
              "  </tbody>\n",
              "</table>\n",
              "</div>\n",
              "    <div class=\"colab-df-buttons\">\n",
              "\n",
              "  <div class=\"colab-df-container\">\n",
              "    <button class=\"colab-df-convert\" onclick=\"convertToInteractive('df-2588e6ec-0528-4650-aa9e-49a89fda09e7')\"\n",
              "            title=\"Convert this dataframe to an interactive table.\"\n",
              "            style=\"display:none;\">\n",
              "\n",
              "  <svg xmlns=\"http://www.w3.org/2000/svg\" height=\"24px\" viewBox=\"0 -960 960 960\">\n",
              "    <path d=\"M120-120v-720h720v720H120Zm60-500h600v-160H180v160Zm220 220h160v-160H400v160Zm0 220h160v-160H400v160ZM180-400h160v-160H180v160Zm440 0h160v-160H620v160ZM180-180h160v-160H180v160Zm440 0h160v-160H620v160Z\"/>\n",
              "  </svg>\n",
              "    </button>\n",
              "\n",
              "  <style>\n",
              "    .colab-df-container {\n",
              "      display:flex;\n",
              "      gap: 12px;\n",
              "    }\n",
              "\n",
              "    .colab-df-convert {\n",
              "      background-color: #E8F0FE;\n",
              "      border: none;\n",
              "      border-radius: 50%;\n",
              "      cursor: pointer;\n",
              "      display: none;\n",
              "      fill: #1967D2;\n",
              "      height: 32px;\n",
              "      padding: 0 0 0 0;\n",
              "      width: 32px;\n",
              "    }\n",
              "\n",
              "    .colab-df-convert:hover {\n",
              "      background-color: #E2EBFA;\n",
              "      box-shadow: 0px 1px 2px rgba(60, 64, 67, 0.3), 0px 1px 3px 1px rgba(60, 64, 67, 0.15);\n",
              "      fill: #174EA6;\n",
              "    }\n",
              "\n",
              "    .colab-df-buttons div {\n",
              "      margin-bottom: 4px;\n",
              "    }\n",
              "\n",
              "    [theme=dark] .colab-df-convert {\n",
              "      background-color: #3B4455;\n",
              "      fill: #D2E3FC;\n",
              "    }\n",
              "\n",
              "    [theme=dark] .colab-df-convert:hover {\n",
              "      background-color: #434B5C;\n",
              "      box-shadow: 0px 1px 3px 1px rgba(0, 0, 0, 0.15);\n",
              "      filter: drop-shadow(0px 1px 2px rgba(0, 0, 0, 0.3));\n",
              "      fill: #FFFFFF;\n",
              "    }\n",
              "  </style>\n",
              "\n",
              "    <script>\n",
              "      const buttonEl =\n",
              "        document.querySelector('#df-2588e6ec-0528-4650-aa9e-49a89fda09e7 button.colab-df-convert');\n",
              "      buttonEl.style.display =\n",
              "        google.colab.kernel.accessAllowed ? 'block' : 'none';\n",
              "\n",
              "      async function convertToInteractive(key) {\n",
              "        const element = document.querySelector('#df-2588e6ec-0528-4650-aa9e-49a89fda09e7');\n",
              "        const dataTable =\n",
              "          await google.colab.kernel.invokeFunction('convertToInteractive',\n",
              "                                                    [key], {});\n",
              "        if (!dataTable) return;\n",
              "\n",
              "        const docLinkHtml = 'Like what you see? Visit the ' +\n",
              "          '<a target=\"_blank\" href=https://colab.research.google.com/notebooks/data_table.ipynb>data table notebook</a>'\n",
              "          + ' to learn more about interactive tables.';\n",
              "        element.innerHTML = '';\n",
              "        dataTable['output_type'] = 'display_data';\n",
              "        await google.colab.output.renderOutput(dataTable, element);\n",
              "        const docLink = document.createElement('div');\n",
              "        docLink.innerHTML = docLinkHtml;\n",
              "        element.appendChild(docLink);\n",
              "      }\n",
              "    </script>\n",
              "  </div>\n",
              "\n",
              "\n",
              "  <div id=\"id_193cb5fa-2487-46cb-afa0-f9759e6e7f0e\">\n",
              "    <style>\n",
              "      .colab-df-generate {\n",
              "        background-color: #E8F0FE;\n",
              "        border: none;\n",
              "        border-radius: 50%;\n",
              "        cursor: pointer;\n",
              "        display: none;\n",
              "        fill: #1967D2;\n",
              "        height: 32px;\n",
              "        padding: 0 0 0 0;\n",
              "        width: 32px;\n",
              "      }\n",
              "\n",
              "      .colab-df-generate:hover {\n",
              "        background-color: #E2EBFA;\n",
              "        box-shadow: 0px 1px 2px rgba(60, 64, 67, 0.3), 0px 1px 3px 1px rgba(60, 64, 67, 0.15);\n",
              "        fill: #174EA6;\n",
              "      }\n",
              "\n",
              "      [theme=dark] .colab-df-generate {\n",
              "        background-color: #3B4455;\n",
              "        fill: #D2E3FC;\n",
              "      }\n",
              "\n",
              "      [theme=dark] .colab-df-generate:hover {\n",
              "        background-color: #434B5C;\n",
              "        box-shadow: 0px 1px 3px 1px rgba(0, 0, 0, 0.15);\n",
              "        filter: drop-shadow(0px 1px 2px rgba(0, 0, 0, 0.3));\n",
              "        fill: #FFFFFF;\n",
              "      }\n",
              "    </style>\n",
              "    <button class=\"colab-df-generate\" onclick=\"generateWithVariable('area')\"\n",
              "            title=\"Generate code using this dataframe.\"\n",
              "            style=\"display:none;\">\n",
              "\n",
              "  <svg xmlns=\"http://www.w3.org/2000/svg\" height=\"24px\"viewBox=\"0 0 24 24\"\n",
              "       width=\"24px\">\n",
              "    <path d=\"M7,19H8.4L18.45,9,17,7.55,7,17.6ZM5,21V16.75L18.45,3.32a2,2,0,0,1,2.83,0l1.4,1.43a1.91,1.91,0,0,1,.58,1.4,1.91,1.91,0,0,1-.58,1.4L9.25,21ZM18.45,9,17,7.55Zm-12,3A5.31,5.31,0,0,0,4.9,8.1,5.31,5.31,0,0,0,1,6.5,5.31,5.31,0,0,0,4.9,4.9,5.31,5.31,0,0,0,6.5,1,5.31,5.31,0,0,0,8.1,4.9,5.31,5.31,0,0,0,12,6.5,5.46,5.46,0,0,0,6.5,12Z\"/>\n",
              "  </svg>\n",
              "    </button>\n",
              "    <script>\n",
              "      (() => {\n",
              "      const buttonEl =\n",
              "        document.querySelector('#id_193cb5fa-2487-46cb-afa0-f9759e6e7f0e button.colab-df-generate');\n",
              "      buttonEl.style.display =\n",
              "        google.colab.kernel.accessAllowed ? 'block' : 'none';\n",
              "\n",
              "      buttonEl.onclick = () => {\n",
              "        google.colab.notebook.generateWithVariable('area');\n",
              "      }\n",
              "      })();\n",
              "    </script>\n",
              "  </div>\n",
              "\n",
              "    </div>\n",
              "  </div>\n"
            ],
            "application/vnd.google.colaboratory.intrinsic+json": {
              "type": "dataframe",
              "variable_name": "area",
              "summary": "{\n  \"name\": \"area\",\n  \"rows\": 1,\n  \"fields\": [\n    {\n      \"column\": \"geometry\",\n      \"properties\": {\n        \"dtype\": \"geometry\",\n        \"num_unique_values\": 1,\n        \"samples\": [\n          \"POLYGON ((-79.6392832 43.7498436, -79.6385293 43.749139, -79.6376019 43.7483428, -79.6375457 43.7480166, -79.6367466 43.74678, -79.6307475 43.7362096, -79.6302939 43.7353235, -79.6294107 43.7338427, -79.6289691 43.7331533, -79.6277962 43.7312285, -79.6268612 43.7295611, -79.6256354 43.7274918, -79.6238061 43.724292, -79.6203851 43.7186692, -79.6180198 43.7146886, -79.616852 43.7127231, -79.616061 43.7113019, -79.6140194 43.707634, -79.6105434 43.7017256, -79.6083698 43.6978618, -79.6075858 43.6965129, -79.6062249 43.6941199, -79.6059959 43.6937787, -79.6057359 43.6933251, -79.6055934 43.6930765, -79.603361 43.6891816, -79.6024815 43.6876628, -79.6012949 43.6856867, -79.5952971 43.6754976, -79.5945991 43.674298, -79.5944319 43.6740107, -79.5921675 43.6701045, -79.5912463 43.6685053, -79.5888158 43.6646011, -79.6087242 43.6464064, -79.6083953 43.6462112, -79.6082599 43.6460696, -79.6081647 43.645926, -79.6079824 43.6456099, -79.6078536 43.6453331, -79.6077946 43.6451817, -79.6077714 43.6450288, -79.6076605 43.6448731, -79.6075111 43.6447369, -79.6073775 43.6446625, -79.6072166 43.6446062, -79.6070695 43.6445879, -79.606837 43.6446227, -79.6065294 43.6446366, -79.6063757 43.6446625, -79.6062295 43.644712, -79.6059025 43.6448314, -79.6057481 43.6448508, -79.6055737 43.6448449, -79.6054024 43.6448077, -79.60528 43.6447304, -79.605162 43.6446305, -79.6049365 43.6444878, -79.6048374 43.6444597, -79.6046762 43.6444454, -79.603873 43.6444673, -79.6036023 43.6444926, -79.6034521 43.6445383, -79.6031503 43.6447003, -79.6030739 43.6447197, -79.6029535 43.6447168, -79.602515 43.6446274, -79.6021847 43.6445111, -79.60206 43.6444383, -79.6019733 43.6443642, -79.6018964 43.6442151, -79.6018444 43.6441129, -79.6018066 43.6440705, -79.6017328 43.6440258, -79.6016456 43.6439996, -79.6015369 43.6439909, -79.6012862 43.6440161, -79.601144 43.6440181, -79.6010253 43.6440072, -79.6004695 43.64389, -79.6001677 43.6438434, -79.5998779 43.6438233, -79.5994623 43.6437551, -79.5992303 43.6436978, -79.5990131 43.6436218, -79.5987596 43.643495, -79.5985986 43.6433591, -79.5984214 43.6432383, -79.5982566 43.6431602, -79.5981038 43.6431262, -79.5979593 43.6431155, -79.5970865 43.6430705, -79.5965964 43.6430573, -79.596135 43.643076, -79.5958333 43.6431398, -79.5954528 43.6432826, -79.5950581 43.6434426, -79.5947135 43.6436571, -79.5941743 43.6440501, -79.5938502 43.6442248, -79.5929103 43.6447171, -79.5926575 43.6447751, -79.5924769 43.6447829, -79.5923097 43.6447772, -79.5921611 43.6447462, -79.5919843 43.6446935, -79.5917064 43.6445956, -79.5911099 43.6442743, -79.5904612 43.6440008, -79.5898473 43.6436218, -79.5895599 43.6433283, -79.5892731 43.6429408, -79.5890818 43.6428111, -79.5889072 43.6427143, -79.5887033 43.6426258, -79.5885338 43.6425847, -79.5884089 43.6425429, -79.5883035 43.6424915, -79.5880736 43.6422353, -79.5879718 43.6420097, -79.5879798 43.6418686, -79.5878322 43.6416821, -79.5877563 43.641352, -79.5877782 43.6412252, -79.5876955 43.6410789, -79.5876201 43.641048, -79.5874916 43.6410386, -79.5874245 43.6409921, -79.5873588 43.6409057, -79.5873372 43.6407934, -79.5873788 43.640667, -79.5873763 43.6405495, -79.5873132 43.640369, -79.5871889 43.6402283, -79.5871268 43.6401254, -79.5870759 43.6398614, -79.5869812 43.6395776, -79.5868556 43.6392925, -79.5866789 43.6389898, -79.5864764 43.638687, -79.5862323 43.6383696, -79.5859323 43.6380867, -79.5856382 43.6377388, -79.5854719 43.6375699, -79.5853753 43.637433, -79.5853202 43.6373054, -79.5852868 43.6372273, -79.5852731 43.6371077, -79.5853012 43.6369818, -79.5853432 43.636806, -79.5854176 43.636636, -79.5856141 43.636344, -79.585774 43.6361025, -79.5859708 43.6357228, -79.5860539 43.6355297, -79.5860686 43.6353576, -79.5860593 43.635088, -79.5860083 43.6348357, -79.5859386 43.6347153, -79.5857417 43.6345154, -79.5855926 43.6342717, -79.5855953 43.6341951, -79.5856503 43.6340805, -79.58583 43.6338185, -79.5858876 43.6336651, -79.5858675 43.633568, -79.5858117 43.6334707, -79.585606 43.6332662, -79.5854206 43.6330421, -79.5853168 43.6328388, -79.585217 43.6325209, -79.5851044 43.6319072, -79.5851219 43.6314869, -79.5851567 43.6313032, -79.5852359 43.6311058, -79.5857886 43.63007, -79.5858855 43.6299417, -79.585948 43.6298591, -79.5860419 43.6297591, -79.5860673 43.6296846, -79.5860767 43.6296193, -79.5860459 43.6295348, -79.5859386 43.6294303, -79.5857977 43.629203, -79.5856556 43.6290417, -79.5854569 43.6288729, -79.5850977 43.6287243, -79.5846002 43.6285826, -79.5835843 43.6283001, -79.5824976 43.6279602, -79.5818703 43.6279712, -79.5813171 43.6279019, -79.580892 43.6277757, -79.5805123 43.6276009, -79.5795986 43.6268734, -79.5769378 43.6263376, -79.5755049 43.6255359, -79.5751135 43.6254756, -79.574668 43.6255147, -79.5743553 43.6256369, -79.5740651 43.6258616, -79.5738153 43.6259723, -79.5733586 43.6260863, -79.5728367 43.6261075, -79.5723777 43.626202, -79.5713383 43.626614, -79.5705017 43.6268715, -79.5702258 43.6269565, -79.5699714 43.6269825, -79.5696375 43.6269768, -79.5691522 43.6268695, -79.5686544 43.6267927, -79.5685156 43.6267927, -79.5683814 43.6268198, -79.5681489 43.6269881, -79.567882 43.6272253, -79.5675608 43.6278225, -79.5674129 43.6280452, -79.5672165 43.6281586, -79.5669164 43.6282337, -79.5664066 43.6282704, -79.5657755 43.6282576, -79.5651388 43.6282227, -79.5644179 43.6281312, -79.564137 43.6280194, -79.5638992 43.6278415, -79.5638166 43.6274287, -79.5636583 43.6270405, -79.5635563 43.6267901, -79.5635318 43.6267219, -79.5634661 43.6264213, -79.5634671 43.6259023, -79.5636038 43.6255577, -79.5635925 43.6252263, -79.5636374 43.6249483, -79.5636696 43.6248403, -79.563738 43.6247325, -79.5639385 43.6245297, -79.5639995 43.6244656, -79.5640884 43.6244083, -79.5641604 43.624386, -79.5642488 43.6243751, -79.5645949 43.6244054, -79.5649003 43.6244723, -79.5651113 43.624551, -79.5651869 43.6245661, -79.5652789 43.6245559, -79.5653748 43.6245115, -79.565527 43.6243733, -79.565569 43.6242272, -79.5655893 43.6240516, -79.5657536 43.6235608, -79.5658042 43.6230807, -79.5658623 43.6228637, -79.5658872 43.6226582, -79.5658837 43.6225395, -79.5658569 43.6224094, -79.5657895 43.6222504, -79.5655887 43.6219181, -79.5655377 43.6217696, -79.5655664 43.6216284, -79.5656405 43.6215231, -79.5657483 43.6214122, -79.5661312 43.6212272, -79.5665851 43.6210784, -79.566748 43.6209921, -79.5668466 43.6208823, -79.566903 43.6207259, -79.5669356 43.6205169, -79.5669311 43.6203823, -79.5668922 43.6202434, -79.5667752 43.6199874, -79.5667205 43.6192533, -79.5667581 43.6189842, -79.5668118 43.6188502, -79.5668261 43.6187147, -79.5667782 43.6184968, -79.5666963 43.6182771, -79.5665881 43.6180677, -79.5665422 43.6179444, -79.5665395 43.6178085, -79.5666993 43.6175915, -79.5669064 43.6174027, -79.5671457 43.6172977, -79.5675921 43.6169892, -79.5679048 43.6167366, -79.5679303 43.6166599, -79.5679289 43.6165812, -79.5678136 43.6164346, -79.5679088 43.6161346, -79.5679262 43.6159239, -79.5679879 43.6156957, -79.568101 43.6152564, -79.5682755 43.6145346, -79.5682883 43.6143791, -79.5682468 43.6142451, -79.5681246 43.6141037, -79.5677583 43.6138281, -79.5673715 43.6136329, -79.5670854 43.6135189, -79.5667345 43.6134116, -79.5662995 43.6133752, -79.5658088 43.6133796, -79.5653231 43.6134519, -79.5649447 43.6134492, -79.5647317 43.613414, -79.5645487 43.6133536, -79.5643133 43.6132314, -79.5641406 43.6131016, -79.5640183 43.6129285, -79.5639434 43.6127695, -79.5639123 43.6126343, -79.563953 43.6125226, -79.5640799 43.6123828, -79.5643227 43.6122207, -79.5647503 43.6120374, -79.5651367 43.6118594, -79.5655538 43.6117131, -79.5658864 43.6116225, -79.5660272 43.6115817, -79.5661183 43.6115219, -79.5663974 43.6111681, -79.5666991 43.610871, -79.5668179 43.6108015, -79.5669807 43.6107622, -79.5670719 43.610734, -79.5671524 43.6106758, -79.5672041 43.6106031, -79.567253 43.6104826, -79.5672958 43.6103578, -79.5672614 43.610014, -79.5672009 43.6095518, -79.5671499 43.6091626, -79.5669696 43.6089016, -79.566568 43.6086517, -79.5664203 43.6085598, -79.5662143 43.6084479, -79.5659482 43.6084355, -79.5657422 43.6084976, -79.5654453 43.6085647, -79.5652696 43.6085712, -79.5651253 43.6085408, -79.5649503 43.6084851, -79.5648144 43.6084276, -79.5647143 43.6083579, -79.5646445 43.6082841, -79.5646066 43.60819, -79.5645755 43.6080253, -79.5645842 43.6078811, -79.5646177 43.6077753, -79.5646873 43.6076577, -79.5648665 43.6074495, -79.5648656 43.6073808, -79.5648631 43.6073223, -79.5648496 43.6072609, -79.5648122 43.6072014, -79.5647318 43.6071267, -79.5637853 43.6068507, -79.5636615 43.6068353, -79.5635047 43.606829, -79.5633477 43.6068576, -79.5632188 43.6068935, -79.5629442 43.6068942, -79.5627281 43.6068295, -79.5625386 43.6067478, -79.5622663 43.6065175, -79.5619402 43.6061595, -79.5617746 43.6060108, -79.5615628 43.6058912, -79.5613092 43.605802, -79.5609272 43.6057012, -79.5605314 43.6055214, -79.5602368 43.6053055, -79.5600794 43.6051932, -79.5590389 43.6045698, -79.5587379 43.6043423, -79.5584442 43.6040952, -79.5582636 43.6038433, -79.5581685 43.6035826, -79.5579488 43.6034262, -79.557554 43.6032273, -79.5568588 43.6029352, -79.5564296 43.6026679, -79.5562064 43.6023385, -79.5561378 43.6019034, -79.5560863 43.6014497, -79.5560005 43.6008965, -79.5559232 43.6005982, -79.555949 43.6002377, -79.5558741 43.5998717, -79.5558456 43.5997819, -79.5557846 43.5996926, -79.5556739 43.5996042, -79.5554855 43.5995167, -79.555175 43.5994138, -79.5547393 43.5993003, -79.5543341 43.5991497, -79.5541172 43.5990177, -79.5539372 43.5988865, -79.5537517 43.5986651, -79.5535972 43.598317, -79.5535457 43.5979565, -79.5535764 43.5976083, -79.5536609 43.5972606, -79.5538755 43.5968673, -79.5539405 43.5964274, -79.5539355 43.5961496, -79.5538835 43.5959718, -79.5537742 43.5958165, -79.5536073 43.5956989, -79.5533485 43.5955969, -79.5530804 43.5955102, -79.5512053 43.5953609, -79.5495974 43.5953298, -79.5493977 43.5953255, -79.5492366 43.5953026, -79.5491293 43.5952744, -79.5490567 43.5952339, -79.548847 43.5950983, -79.5486988 43.5949326, -79.5486016 43.5947749, -79.5485781 43.5944333, -79.5486193 43.5941401, -79.5487914 43.5936563, -79.5488084 43.5933699, -79.5488718 43.5931687, -79.5490757 43.5928793, -79.5494159 43.5924084, -79.5495117 43.5919828, -79.549495 43.5915189, -79.5494753 43.5912125, -79.549442 43.5909433, -79.5494258 43.590696, -79.549368 43.5905549, -79.5493048 43.5904547, -79.549242 43.5903946, -79.5491722 43.5903567, -79.5490825 43.590323, -79.5486532 43.590211, -79.5484675 43.5901289, -79.5483186 43.590037, -79.5478465 43.5898319, -79.5474342 43.5896059, -79.5471767 43.589532, -79.5469483 43.5894122, -79.5467971 43.5893368, -79.5466188 43.589228, -79.546506 43.5890624, -79.5463559 43.5889609, -79.5466512 43.5886872, -79.5472556 43.5879978, -79.5473764 43.5878753, -79.5474901 43.5877523, -79.5478817 43.5873289, -79.5482222 43.5869706, -79.5480821 43.5869562, -79.5479022 43.5869005, -79.5473997 43.5867488, -79.5457497 43.5858023, -79.5445377 43.5850852, -79.5445627 43.5847282, -79.544713 43.5835621, -79.5448528 43.581969, -79.5448114 43.58183, -79.5443211 43.5813074, -79.5437978 43.5807511, -79.5435825 43.5805217, -79.5406949 43.5796082, -79.541716 43.5828049, -79.5277013 43.5869834, -79.5160956 43.584835, -79.5057794 43.5859559, -79.4990562 43.5932855, -79.495503 43.5966714, -79.4870929 43.604685, -79.4781204 43.610042, -79.4678886 43.6217802, -79.4669045 43.6303281, -79.4666293 43.6327187, -79.4543512 43.635453, -79.4409712 43.6316933, -79.4258573 43.6270548, -79.4212947 43.6256545, -79.4069701 43.6259963, -79.3898122 43.6110678, -79.3476258 43.610384, -79.3439184 43.6113153, -79.3321994 43.6142589, -79.3205509 43.6169941, -79.3170878 43.6484391, -79.3141577 43.6494176, -79.3129951 43.6498059, -79.298828 43.6583478, -79.2785104 43.6697234, -79.2758458 43.6712151, -79.2591602 43.6887468, -79.2440486 43.6984211, -79.2331872 43.7005834, -79.2234276 43.7078664, -79.2218535 43.715376, -79.2127236 43.7242497, -79.2115094 43.7253709, -79.2042233 43.7320985, -79.1881673 43.7452912, -79.1767871 43.7504033, -79.1694352 43.7537057, -79.1499161 43.7579125, -79.1244154 43.7797378, -79.1132193 43.7930746, -79.1152941 43.7948018, -79.1153291 43.7948709, -79.1155081 43.794902, -79.1157269 43.7949284, -79.1160752 43.7949319, -79.1164872 43.7948018, -79.1166931 43.7946655, -79.1170536 43.7944734, -79.1175 43.7943743, -79.1176888 43.7943743, -79.1179634 43.7944115, -79.1187155 43.7946635, -79.1189762 43.7946841, -79.1195256 43.794777, -79.1204263 43.7947212, -79.1207615 43.7946903, -79.1209933 43.794746, -79.1211649 43.7949009, -79.121225 43.7950868, -79.1211563 43.7952603, -79.1209503 43.7953842, -79.1205984 43.7954523, -79.120341 43.7955515, -79.120135 43.7957559, -79.1201092 43.795886, -79.1201756 43.796078, -79.1214224 43.7972675, -79.1216284 43.7973667, -79.1218945 43.7974596, -79.1221005 43.7974782, -79.1224953 43.7974162, -79.1231809 43.7972374, -79.1235339 43.7972118, -79.1241175 43.7974286, -79.1243063 43.7975649, -79.1243664 43.797726, -79.124169 43.7982464, -79.1240851 43.7986789, -79.1241776 43.7990517, -79.1246582 43.7998261, -79.125259 43.8002412, -79.1255852 43.8003031, -79.1263577 43.800204, -79.1267096 43.8001359, -79.1270443 43.8001421, -79.1277322 43.8003337, -79.12825 43.8005791, -79.1296448 43.8013857, -79.130243 43.8016579, -79.1307694 43.8018147, -79.1312243 43.801858, -79.1316426 43.8018146, -79.1331297 43.8012509, -79.1347176 43.8007739, -79.1349922 43.8007244, -79.1352412 43.800712, -79.1354128 43.8008978, -79.1354042 43.8010589, -79.1352326 43.8013191, -79.1348172 43.8016114, -79.1345459 43.8018023, -79.1340171 43.8024285, -79.1336099 43.8028365, -79.133516 43.8030102, -79.1336234 43.8032559, -79.1341571 43.8040062, -79.134297 43.8045589, -79.1341769 43.8051783, -79.1340309 43.8054942, -79.1337735 43.8059774, -79.1337086 43.8062639, -79.1337193 43.8063179, -79.1337515 43.8064807, -79.1339231 43.806778, -79.1343265 43.8070134, -79.134584 43.8073045, -79.1348244 43.8073851, -79.1350297 43.8075748, -79.1354334 43.8078983, -79.1357148 43.8080227, -79.136078 43.808163, -79.1362497 43.8081444, -79.1364213 43.8081134, -79.13649 43.8080205, -79.1366016 43.8078904, -79.136799 43.8077913, -79.1370565 43.8077418, -79.1372737 43.8078771, -79.1375109 43.8079103, -79.1375943 43.8078012, -79.1377306 43.8075656, -79.1378713 43.8074222, -79.1379915 43.8074098, -79.1380945 43.8074656, -79.1382061 43.8075585, -79.1382746 43.807662, -79.1381803 43.8078001, -79.1382147 43.8079239, -79.1382205 43.8079311, -79.1382747 43.8079983, -79.1383434 43.8080045, -79.1384121 43.8079673, -79.1384807 43.8079549, -79.1385837 43.8079921, -79.1386696 43.8079797, -79.1387897 43.8080045, -79.1389013 43.808054, -79.1389283 43.8080735, -79.1391588 43.8082398, -79.1393648 43.8083451, -79.1396223 43.8083513, -79.139957 43.8083761, -79.1402468 43.8083695, -79.1404034 43.8083637, -79.1404548 43.8084195, -79.1405321 43.8087292, -79.1406866 43.8087849, -79.1410112 43.8088617, -79.1411415 43.8089088, -79.1416221 43.8091627, -79.1421886 43.8093548, -79.1426178 43.8094229, -79.1431413 43.8095823, -79.1437679 43.8097326, -79.1440682 43.8098248, -79.144163 43.8098539, -79.1445146 43.8099246, -79.1449438 43.8099803, -79.1457002 43.8099853, -79.1459223 43.8099803, -79.1459995 43.8100237, -79.1460253 43.8101414, -79.1459757 43.8106464, -79.145948 43.810928, -79.1459652 43.811089, -79.1460596 43.8111634, -79.1461883 43.8112129, -79.1463085 43.8112005, -79.146463 43.8112377, -79.1468664 43.8114669, -79.1472526 43.8117208, -79.1476303 43.8119066, -79.1478105 43.8120553, -79.1478326 43.8120944, -79.147905 43.8122225, -79.1480766 43.812334, -79.1484629 43.8123773, -79.1487976 43.8123773, -79.1490122 43.8123587, -79.1491838 43.8123835, -79.149407 43.8124455, -79.1495443 43.8125569, -79.1500164 43.8130153, -79.1504777 43.8133177, -79.1507106 43.8134176, -79.1508425 43.8135111, -79.1509401 43.8136124, -79.1510074 43.8137006, -79.1511279 43.8138586, -79.1512609 43.8139505, -79.1514583 43.8139877, -79.1517117 43.8139659, -79.152051 43.8145644, -79.1555612 43.8226163, -79.156302 43.8241927, -79.1595299 43.8317189, -79.1595692 43.8318076, -79.1606014 43.8341351, -79.1609049 43.8348068, -79.1633994 43.8403262, -79.166146 43.8465785, -79.1666398 43.8475441, -79.1666789 43.8476206, -79.1668501 43.8479554, -79.1688143 43.8522899, -79.1696452 43.8540572, -79.1696952 43.8542206, -79.1699025 43.8546932, -79.1701685 43.8553214, -79.1701962 43.8553968, -79.1702147 43.8554425, -79.1710263 43.8552741, -79.1743008 43.8545507, -79.177584 43.8537859, -79.1799911 43.8531472, -79.1828452 43.8524608, -79.1852763 43.8518817, -79.1897403 43.8507863, -79.1916572 43.8503191, -79.1935555 43.8498542, -79.1940651 43.8497318, -79.1957 43.8493368, -79.197555 43.8489058, -79.1993253 43.8485097, -79.1995703 43.8484598, -79.2003786 43.8482526, -79.2005832 43.8482009, -79.2034183 43.8474885, -79.2059374 43.8469424, -79.2078041 43.846531, -79.2080855 43.846469, -79.2092645 43.8462033, -79.2155117 43.844822, -79.2190752 43.8440022, -79.2256683 43.8425539, -79.2258363 43.842516, -79.2260777 43.8424779, -79.2268104 43.8423141, -79.2276003 43.8421375, -79.2277561 43.8421057, -79.2279832 43.8420526, -79.2288824 43.8418496, -79.2297608 43.8416532, -79.2303215 43.8415228, -79.2308744 43.8413902, -79.2311754 43.8413173, -79.231477 43.8412372, -79.2320555 43.8410654, -79.232212 43.8410116, -79.2325983 43.8409271, -79.2345152 43.8404908, -79.2368071 43.8399375, -79.2372406 43.8398296, -79.2378597 43.8396874, -79.2404249 43.8391231, -79.2452397 43.8379905, -79.2457549 43.837875, -79.2458864 43.8378279, -79.2475863 43.8374383, -79.2484648 43.8372292, -79.24908 43.8370822, -79.2522188 43.8363701, -79.2530181 43.83618, -79.2564737 43.8353687, -79.2574775 43.8351294, -79.2649512 43.833407, -79.2651158 43.8333657, -79.2661227 43.8331266, -79.2669349 43.8329341, -79.2671718 43.832878, -79.2688426 43.8325282, -79.269204 43.8324311, -79.2711071 43.8319752, -79.2726262 43.8316389, -79.2732826 43.8314801, -79.2742093 43.8312431, -79.2762438 43.8307825, -79.2764978 43.8307293, -79.2795313 43.830028, -79.2811873 43.82966, -79.2864396 43.8284388, -79.2877576 43.8281418, -79.2882911 43.8280228, -79.290818 43.8274497, -79.2910869 43.8273919, -79.292314 43.8271116, -79.2927631 43.8270055, -79.2930988 43.8269262, -79.2971219 43.8259977, -79.2972772 43.8259606, -79.2980458 43.8257952, -79.2982949 43.8257363, -79.2984647 43.8256962, -79.2987063 43.8256391, -79.2987527 43.8256281, -79.299089 43.8255486, -79.2992602 43.8255082, -79.2993339 43.8254907, -79.2994068 43.8254735, -79.300514 43.825208, -79.3014982 43.8250022, -79.3022346 43.8248225, -79.3032208 43.8245558, -79.3044224 43.8243052, -79.3081251 43.8234392, -79.3097901 43.8230497, -79.3117807 43.8225749, -79.3127696 43.8223465, -79.3135694 43.8221723, -79.3161744 43.8215503, -79.3176406 43.8212155, -79.3185529 43.8209911, -79.3199044 43.8206869, -79.3209241 43.8204475, -79.3218592 43.8202247, -79.3228145 43.8199973, -79.3229209 43.8199813, -79.3233852 43.8198745, -79.3265641 43.819152, -79.3266815 43.8191257, -79.3284532 43.8186964, -79.329129 43.8185442, -79.3306057 43.8182057, -79.3311911 43.8180757, -79.3315092 43.8180011, -79.336408 43.8168765, -79.3373623 43.8166658, -79.3401642 43.8159481, -79.3412575 43.8156648, -79.3413434 43.8156447, -79.3414202 43.8156267, -79.3422849 43.815409, -79.3425556 43.8153423, -79.3428327 43.815274, -79.3431896 43.8151897, -79.3437856 43.8150516, -79.3447765 43.814815, -79.3451968 43.8147152, -79.3457564 43.814593, -79.3462652 43.8144819, -79.346404 43.8144516, -79.346959 43.8143358, -79.3484962 43.8139985, -79.3487455 43.8139401, -79.3504282 43.8135529, -79.3509332 43.8134484, -79.3522993 43.8131009, -79.3537025 43.8128065, -79.3549064 43.8125147, -79.3550305 43.812489, -79.3552899 43.8124353, -79.3566656 43.812141, -79.357568 43.8119376, -79.3607585 43.811183, -79.3615733 43.811002, -79.3627808 43.8107237, -79.364783 43.8102672, -79.3650079 43.8102172, -79.3659198 43.8100174, -79.3663917 43.8099157, -79.3669147 43.8097985, -79.3674137 43.8096853, -79.3677108 43.8096222, -79.3690657 43.8092993, -79.3704108 43.8089908, -79.3705644 43.8089548, -79.3725229 43.8085069, -79.374044 43.8081591, -79.3742001 43.8081269, -79.3745077 43.8080658, -79.3759598 43.8077557, -79.376084 43.8077303, -79.3762402 43.8076948, -79.3764976 43.8076326, -79.3829028 43.8062104, -79.3833889 43.8061057, -79.3835968 43.8060591, -79.383676 43.8060414, -79.384087 43.8059527, -79.3844593 43.8058723, -79.3846838 43.8058239, -79.3853083 43.8056713, -79.3856359 43.805602, -79.3857614 43.8055737, -79.3858696 43.8055497, -79.3864946 43.8054114, -79.3871454 43.8052674, -79.3882298 43.8050487, -79.3888164 43.8049214, -79.3892072 43.804833, -79.3897002 43.8047216, -79.3897702 43.8047058, -79.3899984 43.8046542, -79.3902236 43.8046032, -79.3904247 43.8045577, -79.3906021 43.8045176, -79.3906979 43.804496, -79.3909614 43.8044364, -79.3910612 43.8044156, -79.3912441 43.8043774, -79.3915574 43.8043058, -79.3918525 43.8042403, -79.3925621 43.8040912, -79.392732 43.8040512, -79.39289 43.804023, -79.3942766 43.8037109, -79.3946365 43.8036282, -79.3962919 43.8032482, -79.397064 43.8030978, -79.3972709 43.8030529, -79.3983148 43.8028093, -79.3986397 43.8027456, -79.3994527 43.8025488, -79.400003 43.8024314, -79.4003372 43.8023545, -79.4007618 43.8022595, -79.4008678 43.8022355, -79.40097 43.8022162, -79.4016609 43.8020696, -79.4020572 43.8019798, -79.4025524 43.8018796, -79.4028856 43.8018106, -79.4061532 43.8010864, -79.4062515 43.8010685, -79.4063531 43.8010436, -79.4092437 43.8004076, -79.4093305 43.8003888, -79.4118226 43.7998404, -79.4132711 43.7995312, -79.4143507 43.7992899, -79.4144686 43.7992607, -79.4145889 43.7992327, -79.4157435 43.7989659, -79.4170831 43.7986857, -79.4176865 43.7985568, -79.4180129 43.7984871, -79.4192262 43.7982217, -79.4199052 43.7980722, -79.4200471 43.7980391, -79.4207708 43.7978877, -79.4208476 43.7978705, -79.4210627 43.7978224, -79.4219056 43.797628, -79.4223583 43.7975236, -79.4223844 43.797518, -79.4231832 43.7973455, -79.423399 43.7972956, -79.4240001 43.7971568, -79.4248432 43.7970053, -79.4253766 43.7968948, -79.4254222 43.7968846, -79.4263774 43.7966718, -79.4266601 43.7966036, -79.4268639 43.7965583, -79.4277801 43.7963673, -79.4279654 43.7963273, -79.428462 43.796211, -79.4285957 43.7961797, -79.4297472 43.7959316, -79.4319712 43.7954401, -79.4337836 43.7950396, -79.4338929 43.7950145, -79.4339018 43.7950125, -79.4341224 43.7949618, -79.4344004 43.7949033, -79.4346197 43.7948526, -79.4347357 43.7948258, -79.4347402 43.7948248, -79.4348348 43.7948029, -79.435032 43.7947575, -79.435304 43.794695, -79.4354496 43.7946611, -79.4355627 43.7946348, -79.4356531 43.7946137, -79.4360032 43.7945328, -79.4361855 43.7944906, -79.4363798 43.7944457, -79.4365438 43.7944059, -79.4366898 43.794376, -79.4382415 43.7940589, -79.4386555 43.7939699, -79.4395528 43.7937539, -79.4409079 43.7934576, -79.441018 43.7934298, -79.4411314 43.7934082, -79.4424928 43.7931251, -79.4444444 43.7927223, -79.4450004 43.7926014, -79.4457565 43.7924485, -79.4465072 43.7922818, -79.4467618 43.7922246, -79.4469851 43.7921745, -79.4476572 43.7920142, -79.4481327 43.7919195, -79.4483932 43.7918622, -79.4486897 43.7917971, -79.448928 43.791745, -79.4491091 43.7917053, -79.4492516 43.791674, -79.4571698 43.7899606, -79.4647621 43.7883493, -79.4659522 43.788109, -79.4667282 43.7879567, -79.4670179 43.7878918, -79.467449 43.7878014, -79.4683122 43.7876237, -79.4684849 43.7875882, -79.4685834 43.7875679, -79.468612 43.787562, -79.4690392 43.7874741, -79.4691809 43.787445, -79.4703165 43.7872247, -79.4709552 43.7870726, -79.4710807 43.7870411, -79.471881 43.7868395, -79.4722374 43.786752, -79.4727378 43.7866433, -79.4728935 43.7866183, -79.4729784 43.7866003, -79.4750629 43.7860969, -79.4752938 43.7860501, -79.4758368 43.7859187, -79.4763686 43.7857901, -79.4763807 43.7857872, -79.4769985 43.7856378, -79.4770034 43.7856366, -79.4774128 43.7855376, -79.4778102 43.7854415, -79.4783577 43.7853091, -79.4799454 43.7849333, -79.4808651 43.7847027, -79.4815659 43.784554, -79.4820728 43.7844374, -79.4821915 43.7844092, -79.4822559 43.7843953, -79.4823669 43.7843697, -79.482491 43.7843412, -79.4825637 43.7843243, -79.4829926 43.7842246, -79.4830056 43.7842216, -79.4832373 43.7841677, -79.4875255 43.7831412, -79.4878561 43.7830922, -79.4884194 43.7829584, -79.4890151 43.7828168, -79.4891963 43.7827773, -79.4906964 43.782428, -79.4907833 43.7824072, -79.4934327 43.7817749, -79.4944922 43.7815153, -79.4946323 43.7814805, -79.5091806 43.7781031, -79.5139046 43.777056, -79.5191456 43.7759588, -79.5217056 43.7754557, -79.5222896 43.7753149, -79.5236087 43.7749734, -79.5240425 43.7748883, -79.5244101 43.7748192, -79.5251074 43.7746793, -79.5255946 43.7745837, -79.5266959 43.7743397, -79.5268451 43.7743135, -79.5269652 43.7742927, -79.5276185 43.7741782, -79.5333191 43.7729968, -79.5342638 43.7728097, -79.5348127 43.7726923, -79.5356508 43.772513, -79.5377861 43.7720886, -79.5393404 43.7717658, -79.5442004 43.7707929, -79.5448895 43.7706459, -79.5456671 43.7704681, -79.5475304 43.7701075, -79.5484808 43.769902, -79.5502891 43.7695131, -79.550542 43.7694588, -79.5507917 43.7694051, -79.5508929 43.7693834, -79.5511683 43.7693242, -79.5512609 43.7693043, -79.5515492 43.7692424, -79.5521854 43.7691057, -79.5528867 43.7689668, -79.5531201 43.7689171, -79.5536331 43.7688173, -79.5539782 43.7687501, -79.5541079 43.7687249, -79.5554234 43.7684662, -79.5571498 43.7680829, -79.5575199 43.7680007, -79.5577284 43.7679544, -79.5581291 43.7678787, -79.5585718 43.7677952, -79.5588247 43.7677474, -79.5590226 43.767724, -79.5592124 43.7676742, -79.5600589 43.7675143, -79.5601007 43.7674957, -79.5603482 43.7674499, -79.5605747 43.7674018, -79.5607672 43.7673619, -79.5609242 43.7673532, -79.5614242 43.7672255, -79.5621019 43.7670849, -79.562263 43.7670514, -79.5629706 43.7669046, -79.563428 43.7668097, -79.5638986 43.766712, -79.5731249 43.7647397, -79.5747827 43.764326, -79.577015 43.7638374, -79.5775231 43.7636975, -79.5806472 43.7630265, -79.5904545 43.7607432, -79.5905832 43.7607319, -79.5907298 43.7607191, -79.5914662 43.7605466, -79.5929039 43.7602097, -79.594627 43.759806, -79.5961958 43.7594715, -79.5969414 43.7593058, -79.5976199 43.7591323, -79.5984274 43.7589755, -79.5996544 43.7586857, -79.6020396 43.7581476, -79.6023642 43.7580796, -79.6033852 43.7578662, -79.6043721 43.7576487, -79.6049125 43.7575187, -79.6066732 43.7571304, -79.6071233 43.7570311, -79.6077672 43.7568891, -79.6084336 43.756725, -79.6087359 43.7566997, -79.6112172 43.7561076, -79.6117854 43.7559761, -79.6130281 43.7556884, -79.6149259 43.7552703, -79.6170035 43.7548036, -79.6187747 43.7544058, -79.619833 43.7541681, -79.622453 43.7536157, -79.6232006 43.7534345, -79.6239446 43.7532653, -79.6241365 43.75322, -79.6241539 43.7532151, -79.6250214 43.7529721, -79.6256258 43.752893, -79.625879 43.7528339, -79.6278315 43.7523782, -79.6293415 43.7520258, -79.629973 43.7518784, -79.6308995 43.751672, -79.6318097 43.7514692, -79.6320302 43.7514274, -79.6323742 43.7513653, -79.6326346 43.7513283, -79.6329415 43.7512964, -79.6332296 43.7512699, -79.6335497 43.7512552, -79.6341054 43.7512412, -79.6347191 43.7512268, -79.6351904 43.7512181, -79.6356056 43.7511777, -79.6360286 43.7511111, -79.6365241 43.7510032, -79.6374799 43.7506976, -79.637993 43.7504952, -79.6383075 43.7503353, -79.6392832 43.7498436))\"\n        ],\n        \"semantic_type\": \"\",\n        \"description\": \"\"\n      }\n    },\n    {\n      \"column\": \"bbox_west\",\n      \"properties\": {\n        \"dtype\": \"number\",\n        \"std\": null,\n        \"min\": -79.6392832,\n        \"max\": -79.6392832,\n        \"num_unique_values\": 1,\n        \"samples\": [\n          -79.6392832\n        ],\n        \"semantic_type\": \"\",\n        \"description\": \"\"\n      }\n    },\n    {\n      \"column\": \"bbox_south\",\n      \"properties\": {\n        \"dtype\": \"number\",\n        \"std\": null,\n        \"min\": 43.5796082,\n        \"max\": 43.5796082,\n        \"num_unique_values\": 1,\n        \"samples\": [\n          43.5796082\n        ],\n        \"semantic_type\": \"\",\n        \"description\": \"\"\n      }\n    },\n    {\n      \"column\": \"bbox_east\",\n      \"properties\": {\n        \"dtype\": \"number\",\n        \"std\": null,\n        \"min\": -79.1132193,\n        \"max\": -79.1132193,\n        \"num_unique_values\": 1,\n        \"samples\": [\n          -79.1132193\n        ],\n        \"semantic_type\": \"\",\n        \"description\": \"\"\n      }\n    },\n    {\n      \"column\": \"bbox_north\",\n      \"properties\": {\n        \"dtype\": \"number\",\n        \"std\": null,\n        \"min\": 43.8554425,\n        \"max\": 43.8554425,\n        \"num_unique_values\": 1,\n        \"samples\": [\n          43.8554425\n        ],\n        \"semantic_type\": \"\",\n        \"description\": \"\"\n      }\n    },\n    {\n      \"column\": \"place_id\",\n      \"properties\": {\n        \"dtype\": \"number\",\n        \"std\": null,\n        \"min\": 323677062,\n        \"max\": 323677062,\n        \"num_unique_values\": 1,\n        \"samples\": [\n          323677062\n        ],\n        \"semantic_type\": \"\",\n        \"description\": \"\"\n      }\n    },\n    {\n      \"column\": \"osm_type\",\n      \"properties\": {\n        \"dtype\": \"string\",\n        \"num_unique_values\": 1,\n        \"samples\": [\n          \"relation\"\n        ],\n        \"semantic_type\": \"\",\n        \"description\": \"\"\n      }\n    },\n    {\n      \"column\": \"osm_id\",\n      \"properties\": {\n        \"dtype\": \"number\",\n        \"std\": null,\n        \"min\": 324211,\n        \"max\": 324211,\n        \"num_unique_values\": 1,\n        \"samples\": [\n          324211\n        ],\n        \"semantic_type\": \"\",\n        \"description\": \"\"\n      }\n    },\n    {\n      \"column\": \"lat\",\n      \"properties\": {\n        \"dtype\": \"number\",\n        \"std\": null,\n        \"min\": 43.6534817,\n        \"max\": 43.6534817,\n        \"num_unique_values\": 1,\n        \"samples\": [\n          43.6534817\n        ],\n        \"semantic_type\": \"\",\n        \"description\": \"\"\n      }\n    },\n    {\n      \"column\": \"lon\",\n      \"properties\": {\n        \"dtype\": \"number\",\n        \"std\": null,\n        \"min\": -79.3839347,\n        \"max\": -79.3839347,\n        \"num_unique_values\": 1,\n        \"samples\": [\n          -79.3839347\n        ],\n        \"semantic_type\": \"\",\n        \"description\": \"\"\n      }\n    },\n    {\n      \"column\": \"class\",\n      \"properties\": {\n        \"dtype\": \"string\",\n        \"num_unique_values\": 1,\n        \"samples\": [\n          \"boundary\"\n        ],\n        \"semantic_type\": \"\",\n        \"description\": \"\"\n      }\n    },\n    {\n      \"column\": \"type\",\n      \"properties\": {\n        \"dtype\": \"string\",\n        \"num_unique_values\": 1,\n        \"samples\": [\n          \"administrative\"\n        ],\n        \"semantic_type\": \"\",\n        \"description\": \"\"\n      }\n    },\n    {\n      \"column\": \"place_rank\",\n      \"properties\": {\n        \"dtype\": \"number\",\n        \"std\": null,\n        \"min\": 12,\n        \"max\": 12,\n        \"num_unique_values\": 1,\n        \"samples\": [\n          12\n        ],\n        \"semantic_type\": \"\",\n        \"description\": \"\"\n      }\n    },\n    {\n      \"column\": \"importance\",\n      \"properties\": {\n        \"dtype\": \"number\",\n        \"std\": null,\n        \"min\": 0.7657078633351999,\n        \"max\": 0.7657078633351999,\n        \"num_unique_values\": 1,\n        \"samples\": [\n          0.7657078633351999\n        ],\n        \"semantic_type\": \"\",\n        \"description\": \"\"\n      }\n    },\n    {\n      \"column\": \"addresstype\",\n      \"properties\": {\n        \"dtype\": \"string\",\n        \"num_unique_values\": 1,\n        \"samples\": [\n          \"city\"\n        ],\n        \"semantic_type\": \"\",\n        \"description\": \"\"\n      }\n    },\n    {\n      \"column\": \"name\",\n      \"properties\": {\n        \"dtype\": \"string\",\n        \"num_unique_values\": 1,\n        \"samples\": [\n          \"Toronto\"\n        ],\n        \"semantic_type\": \"\",\n        \"description\": \"\"\n      }\n    },\n    {\n      \"column\": \"display_name\",\n      \"properties\": {\n        \"dtype\": \"string\",\n        \"num_unique_values\": 1,\n        \"samples\": [\n          \"Toronto, Golden Horseshoe, Ontario, Canada\"\n        ],\n        \"semantic_type\": \"\",\n        \"description\": \"\"\n      }\n    }\n  ]\n}"
            }
          },
          "metadata": {},
          "execution_count": 69
        }
      ],
      "source": [
        "place_name = \"Golden Horseshoe, ON, Canada\"\n",
        "place_name = \"Toronto, ON, Canada\"\n",
        "\n",
        "area = ox.geocode_to_gdf(place_name)\n",
        "\n",
        "area"
      ]
    },
    {
      "cell_type": "code",
      "execution_count": null,
      "metadata": {
        "colab": {
          "base_uri": "https://localhost:8080/",
          "height": 437
        },
        "id": "GbX-6g0aoWwA",
        "outputId": "b1e35628-bb94-41f9-aa1f-ffc365b33374"
      },
      "outputs": [
        {
          "output_type": "execute_result",
          "data": {
            "text/plain": [
              "<Axes: >"
            ]
          },
          "metadata": {},
          "execution_count": 70
        },
        {
          "output_type": "display_data",
          "data": {
            "text/plain": [
              "<Figure size 640x480 with 1 Axes>"
            ],
            "image/png": "[encoded data removed]"
          },
          "metadata": {}
        }
      ],
      "source": [
        "area.plot()\n"
      ]
    },
    {
      "cell_type": "code",
      "execution_count": null,
      "metadata": {
        "colab": {
          "base_uri": "https://localhost:8080/",
          "height": 193
        },
        "id": "JsugrA_RoiWZ",
        "outputId": "374c2b38-c6be-4070-af54-56868f991cbc"
      },
      "outputs": [
        {
          "output_type": "error",
          "ename": "AttributeError",
          "evalue": "module 'osmnx' has no attribute 'geometries_from_place'",
          "traceback": [
            "\u001b[0;31m---------------------------------------------------------------------------\u001b[0m",
            "\u001b[0;31mAttributeError\u001b[0m                            Traceback (most recent call last)",
            "\u001b[0;32m<ipython-input-72-455f0540015d>\u001b[0m in \u001b[0;36m<cell line: 3>\u001b[0;34m()\u001b[0m\n\u001b[1;32m      1\u001b[0m \u001b[0mtags\u001b[0m \u001b[0;34m=\u001b[0m \u001b[0;34m{\u001b[0m\u001b[0;34m'building'\u001b[0m\u001b[0;34m:\u001b[0m \u001b[0;32mTrue\u001b[0m\u001b[0;34m}\u001b[0m\u001b[0;34m\u001b[0m\u001b[0;34m\u001b[0m\u001b[0m\n\u001b[1;32m      2\u001b[0m \u001b[0;34m\u001b[0m\u001b[0m\n\u001b[0;32m----> 3\u001b[0;31m \u001b[0mbuildings\u001b[0m \u001b[0;34m=\u001b[0m \u001b[0mox\u001b[0m\u001b[0;34m.\u001b[0m\u001b[0mgeometries_from_place\u001b[0m\u001b[0;34m(\u001b[0m\u001b[0mplace_name\u001b[0m\u001b[0;34m,\u001b[0m \u001b[0mtags\u001b[0m\u001b[0;34m)\u001b[0m\u001b[0;34m\u001b[0m\u001b[0;34m\u001b[0m\u001b[0m\n\u001b[0m\u001b[1;32m      4\u001b[0m \u001b[0mbuildings\u001b[0m\u001b[0;34m.\u001b[0m\u001b[0mhead\u001b[0m\u001b[0;34m(\u001b[0m\u001b[0;34m)\u001b[0m\u001b[0;34m\u001b[0m\u001b[0;34m\u001b[0m\u001b[0m\n",
            "\u001b[0;31mAttributeError\u001b[0m: module 'osmnx' has no attribute 'geometries_from_place'"
          ]
        }
      ],
      "source": [
        "tags = {'building': True}\n",
        "\n",
        "buildings = ox.geometries_from_place(place_name, tags)\n",
        "buildings.head()\n"
      ]
    },
    {
      "cell_type": "code",
      "execution_count": null,
      "metadata": {
        "id": "RcF6Nbl_wxK4"
      },
      "outputs": [],
      "source": [
        "len(buildings)"
      ]
    },
    {
      "cell_type": "code",
      "execution_count": null,
      "metadata": {
        "id": "4CmjNfb8wsoV"
      },
      "outputs": [],
      "source": [
        "buildings.plot()\n"
      ]
    },
    {
      "cell_type": "code",
      "execution_count": null,
      "metadata": {
        "id": "M5aQRn7Ub4eD"
      },
      "outputs": [],
      "source": [
        "!pip install folium"
      ]
    },
    {
      "cell_type": "code",
      "execution_count": null,
      "metadata": {
        "id": "8sMu0nxbIT1g"
      },
      "outputs": [],
      "source": [
        "import folium\n",
        "m = folium.Map(location=[43.6426, -79.3871], zoom_start=10)\n",
        "for _, r in parks.iterrows():\n",
        "    # Without simplifying the representation of each borough,\n",
        "    # the map might not be displayed\n",
        "    sim_geo = gpd.GeoSeries(r[\"geometry\"]).simplify(tolerance=0.001)\n",
        "    geo_j = sim_geo.to_json()\n",
        "    geo_j = folium.GeoJson(data=geo_j, style_function=lambda x: {\"fillColor\": \"orange\"})\n",
        "    geo_j.add_to(m)\n",
        "m\n"
      ]
    }
  ],
  "metadata": {
    "colab": {
      "collapsed_sections": [
        "WqMNclOsJpph",
        "BffF6HfY3d3K",
        "hBK0WFEh0rp2"
      ],
      "toc_visible": true,
      "provenance": [],
      "include_colab_link": true
    },
    "kernelspec": {
      "display_name": "Python 3",
      "name": "python3"
    },
    "language_info": {
      "name": "python"
    }
  },
  "nbformat": 4,
  "nbformat_minor": 0
}